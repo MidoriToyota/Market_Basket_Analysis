{
 "cells": [
  {
   "cell_type": "markdown",
   "metadata": {
    "colab_type": "text",
    "id": "aDHHHyZfsSvf"
   },
   "source": [
    "# **Market Basket Analysis - Parte 1**\n",
    "---\n",
    "\n",
    "Esta é a parte 1 (análise exploratória) de um dos projetos de conclusão do módulo Business Analytics da Formação Cientista de Dados da Data Science Academy (DSA)\n",
    "\n",
    "\n",
    "## **Definição do problema**\n",
    "\n",
    "Nesse projeto, utilizarei os dados anônimos fornecidos pelo instacart para prever quais produtos adquiridos anteriormente estarão no próximo pedido de um usuário. O instacart é um aplicativo de compras online, onde os compradores selecionam os produtos no app e a entrega é feita na loja mais próxima à você.\n",
    "\n",
    "Nessa primeira farei a análise exploratória dos dados para entender o conteúdo dos datasets e o perfil de compra dos usuários.\n",
    "\n",
    "“The Instacart Online Grocery Shopping Dataset 2017”, Accessed from: \n",
    "\n",
    "https://www.instacart.com/datasets/grocery-shopping-2017 on 25/05/2020.\n",
    "\n",
    "Post do VP da Instacart definindo o problema em detalhes:\n",
    "\n",
    "https://tech.instacart.com/3-million-instacart-orders-open-sourced-d40d29ead6f2?gi=41f7b19cd164"
   ]
  },
  {
   "cell_type": "markdown",
   "metadata": {
    "colab_type": "text",
    "id": "pVydLUkys5sF"
   },
   "source": [
    "## **Datasets**\n",
    "\n",
    "Para carregar os datasets no google colab em R utilizei a solução descrita no link abaixo:\n",
    "\n",
    "https://stackoverflow.com/questions/59746036/how-to-read-data-from-google-drive-using-r-in-colab/59781766#59781766\n"
   ]
  },
  {
   "cell_type": "code",
   "execution_count": 0,
   "metadata": {
    "colab": {},
    "colab_type": "code",
    "id": "jI4x565h0Um7"
   },
   "outputs": [],
   "source": [
    "# Carregando arquivos csv que estão no google drive\n",
    "system(\"gdown --id 1_81hIRMXbE5IHIoJfEmL0NH9Yg0SkiaW\") # orders.csv\n",
    "system(\"gdown --id 1lCg5HbXqiHXyHWeXgzqbQn59ogCLJ3N3\") # products.csv\n",
    "system(\"gdown --id 1KlUykoQr9lnCgC--nOkNjQmmn0tAbSOH\") # aisles.csv\n",
    "system(\"gdown --id 1UmvR8ZnR1lXPstXsKhBSJJE_vsTr8B20\") # departments.csv\n",
    "system(\"gdown --id 1aOGKfIt-IGMRDsp4KFlJDeuoYgyy4aXU\") # order_products__train.csv"
   ]
  },
  {
   "cell_type": "code",
   "execution_count": 2,
   "metadata": {},
   "outputs": [],
   "source": [
    "# Carregado datasets\n",
    "orders = read.csv(\"orders.csv\", sep = \",\")\n",
    "products = read.csv(\"products.csv\", sep = \",\")\n",
    "aisles = read.csv(\"aisles.csv\", sep = \",\")\n",
    "departments = read.csv(\"departments.csv\", sep = \",\")\n",
    "data_train = read.csv(\"order_products__train.csv\", sep = \",\")"
   ]
  },
  {
   "cell_type": "markdown",
   "metadata": {
    "colab_type": "text",
    "id": "V51FNlDDKsfq"
   },
   "source": [
    "## **Pacotes**"
   ]
  },
  {
   "cell_type": "code",
   "execution_count": null,
   "metadata": {
    "colab": {
     "base_uri": "https://localhost:8080/",
     "height": 119
    },
    "colab_type": "code",
    "id": "C28XgE1iLxY7",
    "outputId": "3fbc6dae-1998-4a75-deaf-06aeec509a12"
   },
   "outputs": [],
   "source": [
    "# Instalar pacotes\n",
    "install.packages(\"treemap\")\n",
    "install.packages(\"sqldf\")"
   ]
  },
  {
   "cell_type": "code",
   "execution_count": null,
   "metadata": {
    "colab": {
     "base_uri": "https://localhost:8080/",
     "height": 131
    },
    "colab_type": "code",
    "id": "lTlJCwfSKvZs",
    "outputId": "fd884081-0538-4952-b3fd-bfa14305d1b7"
   },
   "outputs": [],
   "source": [
    "# Carregar pacotes\n",
    "library(ggplot2)\n",
    "library(sqldf)\n",
    "library(treemap)\n",
    "library(dplyr)"
   ]
  },
  {
   "cell_type": "markdown",
   "metadata": {
    "colab_type": "text",
    "id": "vwa74-xUD5VI"
   },
   "source": [
    "## **Análise exploratória**\n",
    "\n",
    "### **Volume de compras por dia da semana e por hora do dia**\n",
    "\n",
    "Para analisar os dados do dataset orders quero primeiro entender como é a demanda dos produtos no decorrer do dia e no decorrer da semana.\n",
    "\n",
    "O segundo passo é entender o perfil dos clientes. Estamos tendo uma boa taxa de retenção? Qual é o período de tempo médio entre compras de um usuário? \n",
    "\n",
    "**Estrutura dos dados (orders.csv)**"
   ]
  },
  {
   "cell_type": "code",
   "execution_count": 3,
   "metadata": {
    "colab": {
     "base_uri": "https://localhost:8080/",
     "height": 34
    },
    "colab_type": "code",
    "id": "92f7ZeZIq6gl",
    "outputId": "fdd1ee2f-6bbe-436e-e61d-0e8a3d5d7c21"
   },
   "outputs": [
    {
     "data": {
      "text/html": [
       "<style>\n",
       ".list-inline {list-style: none; margin:0; padding: 0}\n",
       ".list-inline>li {display: inline-block}\n",
       ".list-inline>li:not(:last-child)::after {content: \"\\00b7\"; padding: 0 .5ex}\n",
       "</style>\n",
       "<ol class=list-inline><li>3421083</li><li>7</li></ol>\n"
      ],
      "text/latex": [
       "\\begin{enumerate*}\n",
       "\\item 3421083\n",
       "\\item 7\n",
       "\\end{enumerate*}\n"
      ],
      "text/markdown": [
       "1. 3421083\n",
       "2. 7\n",
       "\n",
       "\n"
      ],
      "text/plain": [
       "[1] 3421083       7"
      ]
     },
     "metadata": {},
     "output_type": "display_data"
    }
   ],
   "source": [
    "# Tamanho do dataset\n",
    "dim(orders)"
   ]
  },
  {
   "cell_type": "code",
   "execution_count": 4,
   "metadata": {
    "colab": {
     "base_uri": "https://localhost:8080/",
     "height": 204
    },
    "colab_type": "code",
    "id": "ff2DYkXsI5yQ",
    "outputId": "81417e67-803a-4c67-b0e7-f2acfc23594d"
   },
   "outputs": [
    {
     "data": {
      "text/html": [
       "<table>\n",
       "<caption>A data.frame: 6 × 7</caption>\n",
       "<thead>\n",
       "\t<tr><th></th><th scope=col>order_id</th><th scope=col>user_id</th><th scope=col>eval_set</th><th scope=col>order_number</th><th scope=col>order_dow</th><th scope=col>order_hour_of_day</th><th scope=col>days_since_prior_order</th></tr>\n",
       "\t<tr><th></th><th scope=col>&lt;int&gt;</th><th scope=col>&lt;int&gt;</th><th scope=col>&lt;fct&gt;</th><th scope=col>&lt;int&gt;</th><th scope=col>&lt;int&gt;</th><th scope=col>&lt;int&gt;</th><th scope=col>&lt;dbl&gt;</th></tr>\n",
       "</thead>\n",
       "<tbody>\n",
       "\t<tr><th scope=row>1</th><td>2539329</td><td>1</td><td>prior</td><td>1</td><td>2</td><td> 8</td><td>NA</td></tr>\n",
       "\t<tr><th scope=row>2</th><td>2398795</td><td>1</td><td>prior</td><td>2</td><td>3</td><td> 7</td><td>15</td></tr>\n",
       "\t<tr><th scope=row>3</th><td> 473747</td><td>1</td><td>prior</td><td>3</td><td>3</td><td>12</td><td>21</td></tr>\n",
       "\t<tr><th scope=row>4</th><td>2254736</td><td>1</td><td>prior</td><td>4</td><td>4</td><td> 7</td><td>29</td></tr>\n",
       "\t<tr><th scope=row>5</th><td> 431534</td><td>1</td><td>prior</td><td>5</td><td>4</td><td>15</td><td>28</td></tr>\n",
       "\t<tr><th scope=row>6</th><td>3367565</td><td>1</td><td>prior</td><td>6</td><td>2</td><td> 7</td><td>19</td></tr>\n",
       "</tbody>\n",
       "</table>\n"
      ],
      "text/latex": [
       "A data.frame: 6 × 7\n",
       "\\begin{tabular}{r|lllllll}\n",
       "  & order\\_id & user\\_id & eval\\_set & order\\_number & order\\_dow & order\\_hour\\_of\\_day & days\\_since\\_prior\\_order\\\\\n",
       "  & <int> & <int> & <fct> & <int> & <int> & <int> & <dbl>\\\\\n",
       "\\hline\n",
       "\t1 & 2539329 & 1 & prior & 1 & 2 &  8 & NA\\\\\n",
       "\t2 & 2398795 & 1 & prior & 2 & 3 &  7 & 15\\\\\n",
       "\t3 &  473747 & 1 & prior & 3 & 3 & 12 & 21\\\\\n",
       "\t4 & 2254736 & 1 & prior & 4 & 4 &  7 & 29\\\\\n",
       "\t5 &  431534 & 1 & prior & 5 & 4 & 15 & 28\\\\\n",
       "\t6 & 3367565 & 1 & prior & 6 & 2 &  7 & 19\\\\\n",
       "\\end{tabular}\n"
      ],
      "text/markdown": [
       "\n",
       "A data.frame: 6 × 7\n",
       "\n",
       "| <!--/--> | order_id &lt;int&gt; | user_id &lt;int&gt; | eval_set &lt;fct&gt; | order_number &lt;int&gt; | order_dow &lt;int&gt; | order_hour_of_day &lt;int&gt; | days_since_prior_order &lt;dbl&gt; |\n",
       "|---|---|---|---|---|---|---|---|\n",
       "| 1 | 2539329 | 1 | prior | 1 | 2 |  8 | NA |\n",
       "| 2 | 2398795 | 1 | prior | 2 | 3 |  7 | 15 |\n",
       "| 3 |  473747 | 1 | prior | 3 | 3 | 12 | 21 |\n",
       "| 4 | 2254736 | 1 | prior | 4 | 4 |  7 | 29 |\n",
       "| 5 |  431534 | 1 | prior | 5 | 4 | 15 | 28 |\n",
       "| 6 | 3367565 | 1 | prior | 6 | 2 |  7 | 19 |\n",
       "\n"
      ],
      "text/plain": [
       "  order_id user_id eval_set order_number order_dow order_hour_of_day\n",
       "1 2539329  1       prior    1            2          8               \n",
       "2 2398795  1       prior    2            3          7               \n",
       "3  473747  1       prior    3            3         12               \n",
       "4 2254736  1       prior    4            4          7               \n",
       "5  431534  1       prior    5            4         15               \n",
       "6 3367565  1       prior    6            2          7               \n",
       "  days_since_prior_order\n",
       "1 NA                    \n",
       "2 15                    \n",
       "3 21                    \n",
       "4 29                    \n",
       "5 28                    \n",
       "6 19                    "
      ]
     },
     "metadata": {},
     "output_type": "display_data"
    }
   ],
   "source": [
    "# Preview do dataframe\n",
    "head(orders)"
   ]
  },
  {
   "cell_type": "markdown",
   "metadata": {
    "colab_type": "text",
    "id": "hT_34vOOJC4a"
   },
   "source": [
    "- `order_id`: order identifier\n",
    "- `user_id`: customer identifier\n",
    "- `eval_set`: which evaluation set this order belongs in - (see SET described below)\n",
    "- `order_number`: the order sequence number for this user (1 = first, n = nth)\n",
    "- `order_dow`: the day of the week the order was placed on\n",
    "- `order_hour_of_day`: the hour of the day the order was placed on\n",
    "- `days_since_prior`: days since the last order, capped at 30 (with NAs for order_number = 1)"
   ]
  },
  {
   "cell_type": "markdown",
   "metadata": {
    "colab_type": "text",
    "id": "wwrLCQvNcjBg"
   },
   "source": [
    "**Quantidade de valores missing**"
   ]
  },
  {
   "cell_type": "code",
   "execution_count": 14,
   "metadata": {
    "colab": {},
    "colab_type": "code",
    "id": "n5sz00t0EBvn"
   },
   "outputs": [
    {
     "data": {
      "text/html": [
       "<table>\n",
       "<caption>A data.frame: 7 × 4</caption>\n",
       "<thead>\n",
       "\t<tr><th></th><th scope=col>variable</th><th scope=col>nmiss</th><th scope=col>n</th><th scope=col>propmiss</th></tr>\n",
       "\t<tr><th></th><th scope=col>&lt;chr&gt;</th><th scope=col>&lt;dbl&gt;</th><th scope=col>&lt;dbl&gt;</th><th scope=col>&lt;dbl&gt;</th></tr>\n",
       "</thead>\n",
       "<tbody>\n",
       "\t<tr><th scope=row>1</th><td>order_id              </td><td>     0</td><td>3421083</td><td>0.00000000</td></tr>\n",
       "\t<tr><th scope=row>2</th><td>user_id               </td><td>     0</td><td>3421083</td><td>0.00000000</td></tr>\n",
       "\t<tr><th scope=row>3</th><td>eval_set              </td><td>     0</td><td>3421083</td><td>0.00000000</td></tr>\n",
       "\t<tr><th scope=row>4</th><td>order_number          </td><td>     0</td><td>3421083</td><td>0.00000000</td></tr>\n",
       "\t<tr><th scope=row>5</th><td>order_dow             </td><td>     0</td><td>3421083</td><td>0.00000000</td></tr>\n",
       "\t<tr><th scope=row>6</th><td>order_hour_of_day     </td><td>     0</td><td>3421083</td><td>0.00000000</td></tr>\n",
       "\t<tr><th scope=row>7</th><td>days_since_prior_order</td><td>206209</td><td>3421083</td><td>0.06027594</td></tr>\n",
       "</tbody>\n",
       "</table>\n"
      ],
      "text/latex": [
       "A data.frame: 7 × 4\n",
       "\\begin{tabular}{r|llll}\n",
       "  & variable & nmiss & n & propmiss\\\\\n",
       "  & <chr> & <dbl> & <dbl> & <dbl>\\\\\n",
       "\\hline\n",
       "\t1 & order\\_id               &      0 & 3421083 & 0.00000000\\\\\n",
       "\t2 & user\\_id                &      0 & 3421083 & 0.00000000\\\\\n",
       "\t3 & eval\\_set               &      0 & 3421083 & 0.00000000\\\\\n",
       "\t4 & order\\_number           &      0 & 3421083 & 0.00000000\\\\\n",
       "\t5 & order\\_dow              &      0 & 3421083 & 0.00000000\\\\\n",
       "\t6 & order\\_hour\\_of\\_day      &      0 & 3421083 & 0.00000000\\\\\n",
       "\t7 & days\\_since\\_prior\\_order & 206209 & 3421083 & 0.06027594\\\\\n",
       "\\end{tabular}\n"
      ],
      "text/markdown": [
       "\n",
       "A data.frame: 7 × 4\n",
       "\n",
       "| <!--/--> | variable &lt;chr&gt; | nmiss &lt;dbl&gt; | n &lt;dbl&gt; | propmiss &lt;dbl&gt; |\n",
       "|---|---|---|---|---|\n",
       "| 1 | order_id               |      0 | 3421083 | 0.00000000 |\n",
       "| 2 | user_id                |      0 | 3421083 | 0.00000000 |\n",
       "| 3 | eval_set               |      0 | 3421083 | 0.00000000 |\n",
       "| 4 | order_number           |      0 | 3421083 | 0.00000000 |\n",
       "| 5 | order_dow              |      0 | 3421083 | 0.00000000 |\n",
       "| 6 | order_hour_of_day      |      0 | 3421083 | 0.00000000 |\n",
       "| 7 | days_since_prior_order | 206209 | 3421083 | 0.06027594 |\n",
       "\n"
      ],
      "text/plain": [
       "  variable               nmiss  n       propmiss  \n",
       "1 order_id                    0 3421083 0.00000000\n",
       "2 user_id                     0 3421083 0.00000000\n",
       "3 eval_set                    0 3421083 0.00000000\n",
       "4 order_number                0 3421083 0.00000000\n",
       "5 order_dow                   0 3421083 0.00000000\n",
       "6 order_hour_of_day           0 3421083 0.00000000\n",
       "7 days_since_prior_order 206209 3421083 0.06027594"
      ]
     },
     "metadata": {},
     "output_type": "display_data"
    }
   ],
   "source": [
    "# Função - Proporção dos valores missing\n",
    "propmiss = function(dataframe) {\n",
    "  m = sapply(dataframe, function(x) {\n",
    "    data.frame(\n",
    "      nmiss = sum(is.na(x)),  \n",
    "      n=length(x),\n",
    "      propmiss = sum(is.na(x))/length(x) \n",
    "    )\n",
    "  })\n",
    "  d = data.frame(t(m))\n",
    "  d = sapply(d, unlist)\n",
    "  d = as.data.frame(d)\n",
    "  d$variable = row.names(d)\n",
    "  row.names(d) = NULL\n",
    "  d = cbind(d[ncol(d)],d[-ncol(d)])\n",
    "  return(d[order(d$propmiss), ])\n",
    "}\n",
    "\n",
    "# Proporção dos valores missing\n",
    "propmiss(orders)"
   ]
  },
  {
   "cell_type": "markdown",
   "metadata": {
    "colab_type": "text",
    "id": "AGir2_Y7E-mY"
   },
   "source": [
    "6% dos pedidos contém valores NA para days_since_prior_order, ou seja, 6% dos pedidos desse dataset são referentes ao primeiro pedido feito pelo usuário. "
   ]
  },
  {
   "cell_type": "markdown",
   "metadata": {
    "colab_type": "text",
    "id": "j_UDtXELKR7x"
   },
   "source": [
    "**Fluxo de compras na semana**\n",
    "\n",
    "A contagem dos dias da semana começam no sábado, sendo sábado = 0, domingo = 1, segunda = 2, etc. Pelo gráfico abaixo, percebe-se que as pessoas fazem mais compras aos sábados e aos domingos, sendo quarta o dia de menor fluxo."
   ]
  },
  {
   "cell_type": "code",
   "execution_count": 9,
   "metadata": {
    "colab": {
     "base_uri": "https://localhost:8080/",
     "height": 437
    },
    "colab_type": "code",
    "id": "FxwJmzA1FWVx",
    "outputId": "8a9eaacb-71ce-43b8-982b-c9fea949b478"
   },
   "outputs": [
    {
     "data": {
      "image/png": "[encoded data removed]",
      "text/plain": [
       "plot without title"
      ]
     },
     "metadata": {
      "image/png": {
       "height": 420,
       "width": 420
      },
      "text/plain": {
       "height": 420,
       "width": 420
      }
     },
     "output_type": "display_data"
    }
   ],
   "source": [
    "# Fluxo de compras na semana\n",
    "ggplot(orders) + \n",
    "  geom_bar(aes(x=order_dow), fill=\"steelblue\") + ggtitle(\"Quantidade de pedidos por dia da semana\")+\n",
    "  xlab(\"Dia da semana\") + ylab(\"Quantidade de pedidos\")"
   ]
  },
  {
   "cell_type": "markdown",
   "metadata": {
    "colab_type": "text",
    "id": "D3bCpgxUWSe0"
   },
   "source": [
    "**Fluxo de compras durante o dia**\n",
    "\n",
    "Os gráficos indicam um maior fluxo de compras entre as 10 e as 16 horas. Depois desse horário há uma diminuição gradual do fluxo."
   ]
  },
  {
   "cell_type": "code",
   "execution_count": 10,
   "metadata": {
    "colab": {
     "base_uri": "https://localhost:8080/",
     "height": 471
    },
    "colab_type": "code",
    "id": "NuVPc0NNWXiq",
    "outputId": "15ef613a-0e00-4a35-d7e1-55456a03742d"
   },
   "outputs": [
    {
     "data": {
      "image/png": "[encoded data removed]",
      "text/plain": [
       "plot without title"
      ]
     },
     "metadata": {
      "image/png": {
       "height": 420,
       "width": 420
      },
      "text/plain": {
       "height": 420,
       "width": 420
      }
     },
     "output_type": "display_data"
    }
   ],
   "source": [
    "# Fluxo de compras em um dia\n",
    "ggplot(orders) + \n",
    "  geom_bar(aes(x=order_hour_of_day), fill=\"steelblue\") + ggtitle(\"Quantidade de pedidos por hora\") +\n",
    "  xlab(\"Hora do dia\") + ylab(\"Quantidade de pedidos\")"
   ]
  },
  {
   "cell_type": "markdown",
   "metadata": {
    "colab_type": "text",
    "id": "RD0saFDapwOH"
   },
   "source": [
    "### **Products, Aisles e Departments**\n",
    "\n",
    "É importante entender a relação entre essas tabelas e o que elas sozinhas significam. O que o instacart entende como categoria (aisle)? e departamento? Quais as categorias e departamentos com uma maior variedade de produtos?\n",
    "\n",
    "**Estrutura dos dados (products.csv)**"
   ]
  },
  {
   "cell_type": "code",
   "execution_count": 9,
   "metadata": {
    "colab": {
     "base_uri": "https://localhost:8080/",
     "height": 34
    },
    "colab_type": "code",
    "id": "ZK-EtaPXqUCI",
    "outputId": "b042895a-33f2-4e58-d312-c80cef5b56c4"
   },
   "outputs": [
    {
     "data": {
      "text/html": [
       "<style>\n",
       ".list-inline {list-style: none; margin:0; padding: 0}\n",
       ".list-inline>li {display: inline-block}\n",
       ".list-inline>li:not(:last-child)::after {content: \"\\00b7\"; padding: 0 .5ex}\n",
       "</style>\n",
       "<ol class=list-inline><li>49688</li><li>4</li></ol>\n"
      ],
      "text/latex": [
       "\\begin{enumerate*}\n",
       "\\item 49688\n",
       "\\item 4\n",
       "\\end{enumerate*}\n"
      ],
      "text/markdown": [
       "1. 49688\n",
       "2. 4\n",
       "\n",
       "\n"
      ],
      "text/plain": [
       "[1] 49688     4"
      ]
     },
     "metadata": {},
     "output_type": "display_data"
    }
   ],
   "source": [
    "# Tamanho do dataset de produtos\n",
    "dim(products)"
   ]
  },
  {
   "cell_type": "code",
   "execution_count": 10,
   "metadata": {
    "colab": {
     "base_uri": "https://localhost:8080/",
     "height": 204
    },
    "colab_type": "code",
    "id": "QCZA0rLSp7ZX",
    "outputId": "f6b4e27d-d870-46b1-a58b-87728217e27a"
   },
   "outputs": [
    {
     "data": {
      "text/html": [
       "<table>\n",
       "<caption>A data.frame: 6 × 4</caption>\n",
       "<thead>\n",
       "\t<tr><th></th><th scope=col>product_id</th><th scope=col>product_name</th><th scope=col>aisle_id</th><th scope=col>department_id</th></tr>\n",
       "\t<tr><th></th><th scope=col>&lt;int&gt;</th><th scope=col>&lt;fct&gt;</th><th scope=col>&lt;int&gt;</th><th scope=col>&lt;int&gt;</th></tr>\n",
       "</thead>\n",
       "<tbody>\n",
       "\t<tr><th scope=row>1</th><td>1</td><td>Chocolate Sandwich Cookies                                       </td><td> 61</td><td>19</td></tr>\n",
       "\t<tr><th scope=row>2</th><td>2</td><td>All-Seasons Salt                                                 </td><td>104</td><td>13</td></tr>\n",
       "\t<tr><th scope=row>3</th><td>3</td><td>Robust Golden Unsweetened Oolong Tea                             </td><td> 94</td><td> 7</td></tr>\n",
       "\t<tr><th scope=row>4</th><td>4</td><td>Smart Ones Classic Favorites Mini Rigatoni With Vodka Cream Sauce</td><td> 38</td><td> 1</td></tr>\n",
       "\t<tr><th scope=row>5</th><td>5</td><td>Green Chile Anytime Sauce                                        </td><td>  5</td><td>13</td></tr>\n",
       "\t<tr><th scope=row>6</th><td>6</td><td>Dry Nose Oil                                                     </td><td> 11</td><td>11</td></tr>\n",
       "</tbody>\n",
       "</table>\n"
      ],
      "text/latex": [
       "A data.frame: 6 × 4\n",
       "\\begin{tabular}{r|llll}\n",
       "  & product\\_id & product\\_name & aisle\\_id & department\\_id\\\\\n",
       "  & <int> & <fct> & <int> & <int>\\\\\n",
       "\\hline\n",
       "\t1 & 1 & Chocolate Sandwich Cookies                                        &  61 & 19\\\\\n",
       "\t2 & 2 & All-Seasons Salt                                                  & 104 & 13\\\\\n",
       "\t3 & 3 & Robust Golden Unsweetened Oolong Tea                              &  94 &  7\\\\\n",
       "\t4 & 4 & Smart Ones Classic Favorites Mini Rigatoni With Vodka Cream Sauce &  38 &  1\\\\\n",
       "\t5 & 5 & Green Chile Anytime Sauce                                         &   5 & 13\\\\\n",
       "\t6 & 6 & Dry Nose Oil                                                      &  11 & 11\\\\\n",
       "\\end{tabular}\n"
      ],
      "text/markdown": [
       "\n",
       "A data.frame: 6 × 4\n",
       "\n",
       "| <!--/--> | product_id &lt;int&gt; | product_name &lt;fct&gt; | aisle_id &lt;int&gt; | department_id &lt;int&gt; |\n",
       "|---|---|---|---|---|\n",
       "| 1 | 1 | Chocolate Sandwich Cookies                                        |  61 | 19 |\n",
       "| 2 | 2 | All-Seasons Salt                                                  | 104 | 13 |\n",
       "| 3 | 3 | Robust Golden Unsweetened Oolong Tea                              |  94 |  7 |\n",
       "| 4 | 4 | Smart Ones Classic Favorites Mini Rigatoni With Vodka Cream Sauce |  38 |  1 |\n",
       "| 5 | 5 | Green Chile Anytime Sauce                                         |   5 | 13 |\n",
       "| 6 | 6 | Dry Nose Oil                                                      |  11 | 11 |\n",
       "\n"
      ],
      "text/plain": [
       "  product_id product_name                                                     \n",
       "1 1          Chocolate Sandwich Cookies                                       \n",
       "2 2          All-Seasons Salt                                                 \n",
       "3 3          Robust Golden Unsweetened Oolong Tea                             \n",
       "4 4          Smart Ones Classic Favorites Mini Rigatoni With Vodka Cream Sauce\n",
       "5 5          Green Chile Anytime Sauce                                        \n",
       "6 6          Dry Nose Oil                                                     \n",
       "  aisle_id department_id\n",
       "1  61      19           \n",
       "2 104      13           \n",
       "3  94       7           \n",
       "4  38       1           \n",
       "5   5      13           \n",
       "6  11      11           "
      ]
     },
     "metadata": {},
     "output_type": "display_data"
    }
   ],
   "source": [
    "# Estrutura do dataframe\n",
    "head(products)"
   ]
  },
  {
   "cell_type": "markdown",
   "metadata": {
    "colab_type": "text",
    "id": "CCokfq1cqFHy"
   },
   "source": [
    "- `product_id`: product identifier\n",
    "- `product_name`: name of the product\n",
    "- `aisle_id`: foreign key\n",
    "- `department_id`: foreign key"
   ]
  },
  {
   "cell_type": "markdown",
   "metadata": {
    "colab_type": "text",
    "id": "Gn-OZ9VGrZlS"
   },
   "source": [
    "**Quantidade de Produtos por Categoria (Aisles)**"
   ]
  },
  {
   "cell_type": "code",
   "execution_count": 4,
   "metadata": {
    "colab": {
     "base_uri": "https://localhost:8080/",
     "height": 288
    },
    "colab_type": "code",
    "id": "jmoZ-svuaFdC",
    "outputId": "d210513f-7db4-4ff7-87e2-03e59ab21739"
   },
   "outputs": [
    {
     "data": {
      "text/html": [
       "<table>\n",
       "<caption>A data.frame: 10 × 2</caption>\n",
       "<thead>\n",
       "\t<tr><th scope=col>aisle</th><th scope=col>n_products</th></tr>\n",
       "\t<tr><th scope=col>&lt;fct&gt;</th><th scope=col>&lt;int&gt;</th></tr>\n",
       "</thead>\n",
       "<tbody>\n",
       "\t<tr><td>missing             </td><td>1258</td></tr>\n",
       "\t<tr><td>candy chocolate     </td><td>1246</td></tr>\n",
       "\t<tr><td>ice cream ice       </td><td>1091</td></tr>\n",
       "\t<tr><td>vitamins supplements</td><td>1038</td></tr>\n",
       "\t<tr><td>yogurt              </td><td>1026</td></tr>\n",
       "\t<tr><td>chips pretzels      </td><td> 989</td></tr>\n",
       "\t<tr><td>tea                 </td><td> 894</td></tr>\n",
       "\t<tr><td>packaged cheese     </td><td> 891</td></tr>\n",
       "\t<tr><td>frozen meals        </td><td> 880</td></tr>\n",
       "\t<tr><td>cookies cakes       </td><td> 874</td></tr>\n",
       "</tbody>\n",
       "</table>\n"
      ],
      "text/latex": [
       "A data.frame: 10 × 2\n",
       "\\begin{tabular}{ll}\n",
       " aisle & n\\_products\\\\\n",
       " <fct> & <int>\\\\\n",
       "\\hline\n",
       "\t missing              & 1258\\\\\n",
       "\t candy chocolate      & 1246\\\\\n",
       "\t ice cream ice        & 1091\\\\\n",
       "\t vitamins supplements & 1038\\\\\n",
       "\t yogurt               & 1026\\\\\n",
       "\t chips pretzels       &  989\\\\\n",
       "\t tea                  &  894\\\\\n",
       "\t packaged cheese      &  891\\\\\n",
       "\t frozen meals         &  880\\\\\n",
       "\t cookies cakes        &  874\\\\\n",
       "\\end{tabular}\n"
      ],
      "text/markdown": [
       "\n",
       "A data.frame: 10 × 2\n",
       "\n",
       "| aisle &lt;fct&gt; | n_products &lt;int&gt; |\n",
       "|---|---|\n",
       "| missing              | 1258 |\n",
       "| candy chocolate      | 1246 |\n",
       "| ice cream ice        | 1091 |\n",
       "| vitamins supplements | 1038 |\n",
       "| yogurt               | 1026 |\n",
       "| chips pretzels       |  989 |\n",
       "| tea                  |  894 |\n",
       "| packaged cheese      |  891 |\n",
       "| frozen meals         |  880 |\n",
       "| cookies cakes        |  874 |\n",
       "\n"
      ],
      "text/plain": [
       "   aisle                n_products\n",
       "1  missing              1258      \n",
       "2  candy chocolate      1246      \n",
       "3  ice cream ice        1091      \n",
       "4  vitamins supplements 1038      \n",
       "5  yogurt               1026      \n",
       "6  chips pretzels        989      \n",
       "7  tea                   894      \n",
       "8  packaged cheese       891      \n",
       "9  frozen meals          880      \n",
       "10 cookies cakes         874      "
      ]
     },
     "metadata": {},
     "output_type": "display_data"
    }
   ],
   "source": [
    "# Nº de produtos por aisles\n",
    "products_by_aisles = sqldf( \"SELECT ais.aisle_id, ais.aisle, pro.product_id \n",
    "                             FROM products AS pro\n",
    "                             LEFT JOIN aisles AS ais\n",
    "                             ON ais.aisle_id = pro.aisle_id\" )\n",
    "\n",
    "# 10 aisles com maior variedade de produtos\n",
    "sqldf( \"SELECT aisle, COUNT(product_id) AS n_products\n",
    "        FROM products_by_aisles \n",
    "        GROUP BY aisle\n",
    "        ORDER BY n_products DESC\n",
    "        LIMIT 10\")"
   ]
  },
  {
   "cell_type": "markdown",
   "metadata": {
    "colab_type": "text",
    "id": "JN85fw-7Vx4w"
   },
   "source": [
    "Me parece que existe uma variedade enorme de alimentos não saudáveis. 1246 tipos diferentes de chocolate? Interessante!"
   ]
  },
  {
   "cell_type": "markdown",
   "metadata": {
    "colab_type": "text",
    "id": "eCL84rIPY7Us"
   },
   "source": [
    "**Produtos por Departamento**\n",
    "\n"
   ]
  },
  {
   "cell_type": "code",
   "execution_count": 5,
   "metadata": {
    "colab": {
     "base_uri": "https://localhost:8080/",
     "height": 437
    },
    "colab_type": "code",
    "id": "B-0lz-NEgJzE",
    "outputId": "e976430d-ab12-4aa7-807d-005c55787f40"
   },
   "outputs": [
    {
     "data": {
      "image/png": "[encoded data removed]",
      "text/plain": [
       "plot without title"
      ]
     },
     "metadata": {
      "image/png": {
       "height": 420,
       "width": 420
      },
      "text/plain": {
       "height": 420,
       "width": 420
      }
     },
     "output_type": "display_data"
    }
   ],
   "source": [
    "# Nº de produtos por departamento\n",
    "products_by_depto = sqldf( \"SELECT dep.department_id, dep.department, pro.product_id \n",
    "                            FROM products AS pro\n",
    "                            LEFT JOIN departments AS dep\n",
    "                            ON pro.department_id = dep.department_id\" ) \n",
    "\n",
    "# Departamentos com maior variedade de produtos\n",
    "n_products_by_depto = sqldf( \"SELECT department, COUNT(product_id) AS n_products\n",
    "                              FROM products_by_depto\n",
    "                              GROUP BY department\n",
    "                              ORDER BY n_products DESC\")\n",
    "\n",
    "# Ordenar em ordem decrescente (preparação para o plot)\n",
    "n_products_by_depto$department = factor(n_products_by_depto$department, levels = n_products_by_depto$department[order(n_products_by_depto$n_products)])\n",
    "\n",
    "# Departamentos com maior variedade de produtos\n",
    "ggplot(n_products_by_depto) + \n",
    "  geom_col(aes(x=department, y=n_products), fill=\"steelblue\") + ggtitle(\"Variedades de produtos por departamento\")+\n",
    "  xlab(\"Departamento\") + ylab(\"Quantidade de produtos\")+ coord_flip()"
   ]
  },
  {
   "cell_type": "markdown",
   "metadata": {
    "colab_type": "text",
    "id": "j64FxMWIebLR"
   },
   "source": [
    "**Relação entre produtos, departamentos e categorias (aisles)**"
   ]
  },
  {
   "cell_type": "code",
   "execution_count": 6,
   "metadata": {
    "colab": {},
    "colab_type": "code",
    "id": "FW8qUG6Pi_bK"
   },
   "outputs": [
    {
     "data": {
      "image/png": "[encoded data removed]",
      "text/plain": [
       "plot without title"
      ]
     },
     "metadata": {
      "image/png": {
       "height": 420,
       "width": 420
      },
      "text/plain": {
       "height": 420,
       "width": 420
      }
     },
     "output_type": "display_data"
    }
   ],
   "source": [
    "# Preparo dos dados para visualização do treemap\n",
    "tmp = sqldf( \" SELECT *\n",
    "               FROM products AS pro\n",
    "               LEFT JOIN aisles AS ais\n",
    "               ON pro.aisle_id = ais.aisle_id \" )\n",
    "\n",
    "tmp = tmp[,c(-2,-3,-5)] # Remover variáveis product_name, aisle_id(1), aisle_id(2)\n",
    "\n",
    "tmp = sqldf( \" SELECT *\n",
    "               FROM tmp \n",
    "               LEFT JOIN departments AS dep\n",
    "               ON tmp.department_id = dep.department_id \" )\n",
    "\n",
    "tmp = tmp[,c(-2,-4)] # Remover variáveis department_id\n",
    "\n",
    "tmp = sqldf( \" SELECT department, aisle, COUNT(product_id) AS n_products\n",
    "               FROM tmp \n",
    "               GROUP BY department, aisle \" )\n",
    "\n",
    "# Plot treemap\n",
    "treemap(tmp,index=c(\"department\",\"aisle\"),vSize=\"n_products\",title=\"\",palette=\"Pastel2\",border.col=\"#FFFFFF\")"
   ]
  },
  {
   "cell_type": "markdown",
   "metadata": {
    "colab_type": "text",
    "id": "G-6WrIg7ZY15"
   },
   "source": [
    "### **Análise do perfil do cliente**\n",
    "\n",
    "As próximas variáveis (`order_number` e `days_since_prior_order`) são variáveis que definem o perfil do usuário e portanto vou calculá-las de modo agregado.\n",
    "\n",
    "**Perfil do cliente baseado no nº de Dias desde a última compra**\n",
    "\n",
    "O `days_since_prior_order` revela se um cliente tem o costume de fazer compras semanais, quizenais etc. Para entender melhor, vou pegar o exemplo do cliente nº 100 (aleatório).\n",
    "\n",
    "Analizando abaixo, o cliente nº 100 já está em sua 6ª compra  e compra de 30 em 30 dias mais ou menos. Para definir esse número para cada usuário, usarei a média dos `days_since_prior_order`.\n"
   ]
  },
  {
   "cell_type": "code",
   "execution_count": 28,
   "metadata": {
    "colab": {
     "base_uri": "https://localhost:8080/",
     "height": 204
    },
    "colab_type": "code",
    "id": "3kdMV-1QEtUO",
    "outputId": "5dfeac4e-d388-4b7f-8ad1-224505c8dc54"
   },
   "outputs": [
    {
     "data": {
      "text/html": [
       "<table>\n",
       "<caption>A data.frame: 6 × 7</caption>\n",
       "<thead>\n",
       "\t<tr><th scope=col>order_id</th><th scope=col>user_id</th><th scope=col>eval_set</th><th scope=col>order_number</th><th scope=col>order_dow</th><th scope=col>order_hour_of_day</th><th scope=col>days_since_prior_order</th></tr>\n",
       "\t<tr><th scope=col>&lt;int&gt;</th><th scope=col>&lt;int&gt;</th><th scope=col>&lt;fct&gt;</th><th scope=col>&lt;int&gt;</th><th scope=col>&lt;int&gt;</th><th scope=col>&lt;int&gt;</th><th scope=col>&lt;dbl&gt;</th></tr>\n",
       "</thead>\n",
       "<tbody>\n",
       "\t<tr><td> 680467</td><td>100</td><td>prior</td><td>1</td><td>3</td><td>18</td><td>NA</td></tr>\n",
       "\t<tr><td>3159209</td><td>100</td><td>prior</td><td>2</td><td>0</td><td>15</td><td>18</td></tr>\n",
       "\t<tr><td>2443738</td><td>100</td><td>prior</td><td>3</td><td>5</td><td>17</td><td>30</td></tr>\n",
       "\t<tr><td>2337051</td><td>100</td><td>prior</td><td>4</td><td>3</td><td>20</td><td>30</td></tr>\n",
       "\t<tr><td>2875733</td><td>100</td><td>prior</td><td>5</td><td>1</td><td>18</td><td>26</td></tr>\n",
       "\t<tr><td>3302990</td><td>100</td><td>test </td><td>6</td><td>5</td><td>19</td><td>30</td></tr>\n",
       "</tbody>\n",
       "</table>\n"
      ],
      "text/latex": [
       "A data.frame: 6 × 7\n",
       "\\begin{tabular}{lllllll}\n",
       " order\\_id & user\\_id & eval\\_set & order\\_number & order\\_dow & order\\_hour\\_of\\_day & days\\_since\\_prior\\_order\\\\\n",
       " <int> & <int> & <fct> & <int> & <int> & <int> & <dbl>\\\\\n",
       "\\hline\n",
       "\t  680467 & 100 & prior & 1 & 3 & 18 & NA\\\\\n",
       "\t 3159209 & 100 & prior & 2 & 0 & 15 & 18\\\\\n",
       "\t 2443738 & 100 & prior & 3 & 5 & 17 & 30\\\\\n",
       "\t 2337051 & 100 & prior & 4 & 3 & 20 & 30\\\\\n",
       "\t 2875733 & 100 & prior & 5 & 1 & 18 & 26\\\\\n",
       "\t 3302990 & 100 & test  & 6 & 5 & 19 & 30\\\\\n",
       "\\end{tabular}\n"
      ],
      "text/markdown": [
       "\n",
       "A data.frame: 6 × 7\n",
       "\n",
       "| order_id &lt;int&gt; | user_id &lt;int&gt; | eval_set &lt;fct&gt; | order_number &lt;int&gt; | order_dow &lt;int&gt; | order_hour_of_day &lt;int&gt; | days_since_prior_order &lt;dbl&gt; |\n",
       "|---|---|---|---|---|---|---|\n",
       "|  680467 | 100 | prior | 1 | 3 | 18 | NA |\n",
       "| 3159209 | 100 | prior | 2 | 0 | 15 | 18 |\n",
       "| 2443738 | 100 | prior | 3 | 5 | 17 | 30 |\n",
       "| 2337051 | 100 | prior | 4 | 3 | 20 | 30 |\n",
       "| 2875733 | 100 | prior | 5 | 1 | 18 | 26 |\n",
       "| 3302990 | 100 | test  | 6 | 5 | 19 | 30 |\n",
       "\n"
      ],
      "text/plain": [
       "  order_id user_id eval_set order_number order_dow order_hour_of_day\n",
       "1  680467  100     prior    1            3         18               \n",
       "2 3159209  100     prior    2            0         15               \n",
       "3 2443738  100     prior    3            5         17               \n",
       "4 2337051  100     prior    4            3         20               \n",
       "5 2875733  100     prior    5            1         18               \n",
       "6 3302990  100     test     6            5         19               \n",
       "  days_since_prior_order\n",
       "1 NA                    \n",
       "2 18                    \n",
       "3 30                    \n",
       "4 30                    \n",
       "5 26                    \n",
       "6 30                    "
      ]
     },
     "metadata": {},
     "output_type": "display_data"
    }
   ],
   "source": [
    "# Exemplo dos dados do cliente nº 100\n",
    "sqldf(\"SELECT * FROM orders WHERE user_id = 100\")"
   ]
  },
  {
   "cell_type": "code",
   "execution_count": 12,
   "metadata": {
    "colab": {
     "base_uri": "https://localhost:8080/",
     "height": 471
    },
    "colab_type": "code",
    "id": "rxlzXv5nMeit",
    "outputId": "099e28d9-deff-477b-c945-36d2b918f458"
   },
   "outputs": [
    {
     "name": "stderr",
     "output_type": "stream",
     "text": [
      "`stat_bin()` using `bins = 30`. Pick better value with `binwidth`.\n",
      "\n"
     ]
    },
    {
     "data": {
      "image/png": "[encoded data removed]",
      "text/plain": [
       "plot without title"
      ]
     },
     "metadata": {
      "image/png": {
       "height": 420,
       "width": 420
      },
      "text/plain": {
       "height": 420,
       "width": 420
      }
     },
     "output_type": "display_data"
    }
   ],
   "source": [
    "# Período médio entre compras (truncado em 30 dias)\n",
    "user_days_since_order = sqldf( \"SELECT user_id, AVG(days_since_prior_order) AS avg_days\n",
    "                                FROM orders \n",
    "                                WHERE days_since_prior_order IS NOT NULL\n",
    "                                GROUP BY user_id\")\n",
    "\n",
    "# Histograma\n",
    "ggplot(user_days_since_order) + \n",
    "  geom_histogram(aes(x=avg_days), fill=\"steelblue\") + ggtitle(\"Perfil do cliente baseado no período médio entre compras\") +\n",
    "  xlab(\"Período médio entre compras\") + ylab(\"Contagem de clientes\")"
   ]
  },
  {
   "cell_type": "code",
   "execution_count": 31,
   "metadata": {
    "colab": {
     "base_uri": "https://localhost:8080/",
     "height": 437
    },
    "colab_type": "code",
    "id": "EEk89zknXWqJ",
    "outputId": "cf91bdc0-4e82-4b51-c649-3fb6bd24b4a0"
   },
   "outputs": [
    {
     "data": {
      "image/png": "[encoded data removed]",
      "text/plain": [
       "Plot with title \"Perfil do cliente baseado no nº de Dias desde a última compra\""
      ]
     },
     "metadata": {
      "image/png": {
       "height": 420,
       "width": 420
      },
      "text/plain": {
       "height": 420,
       "width": 420
      }
     },
     "output_type": "display_data"
    }
   ],
   "source": [
    "# Box plot - uma outra forma de visualizar\n",
    "boxplot(user_days_since_order$avg_days, ylab = \"Período médio entre compras\" , col = \"steelblue\", main = \"Perfil do cliente baseado no período médio entre compras\")"
   ]
  },
  {
   "cell_type": "markdown",
   "metadata": {
    "colab_type": "text",
    "id": "AlIcITxVXlC3"
   },
   "source": [
    "Analizando os gráficos acima, a maioria dos clientes faz compras em média quinzenalemente, a maioria entre 10 à 20 dias. Poucas pessoas fazem compras semanais.\n"
   ]
  },
  {
   "cell_type": "markdown",
   "metadata": {
    "colab_type": "text",
    "id": "2TdbelTycgp-"
   },
   "source": [
    "**Perfil do cliente baseado no nº de pedidos já feitos**\n",
    "\n",
    "O order_number revela qual é o grau de maturidade do cliente, se ele é um cliente antigo ou novo. Para isso, devo considerar apenas o maior `order_number` de cada usuário.\n"
   ]
  },
  {
   "cell_type": "code",
   "execution_count": 13,
   "metadata": {
    "colab": {
     "base_uri": "https://localhost:8080/",
     "height": 471
    },
    "colab_type": "code",
    "id": "lvs5Q_EtcIbs",
    "outputId": "ddb25a12-04d0-409f-adf1-822532fcf1b8"
   },
   "outputs": [
    {
     "name": "stderr",
     "output_type": "stream",
     "text": [
      "`stat_bin()` using `bins = 30`. Pick better value with `binwidth`.\n",
      "\n"
     ]
    },
    {
     "data": {
      "image/png": "[encoded data removed]",
      "text/plain": [
       "plot without title"
      ]
     },
     "metadata": {
      "image/png": {
       "height": 420,
       "width": 420
      },
      "text/plain": {
       "height": 420,
       "width": 420
      }
     },
     "output_type": "display_data"
    }
   ],
   "source": [
    "# Pedido mais recente feito pelo usuário \n",
    "user_order_number = sqldf( \" SELECT user_id, MAX(order_number) as max_order_number\n",
    "                             FROM orders\n",
    "                             GROUP BY user_id \" )\n",
    "\n",
    "# Histograma\n",
    "ggplot(user_order_number) + \n",
    "  geom_histogram(aes(x=max_order_number), fill=\"steelblue\") + ggtitle(\"Perfil do cliente baseado no nº de pedidos já feitos\")+\n",
    "  xlab(\"nº do pedido\") + ylab(\"Contagem de clientes com esse perfil\")"
   ]
  },
  {
   "cell_type": "markdown",
   "metadata": {
    "colab_type": "text",
    "id": "9vZYJ7ciYiBS"
   },
   "source": [
    "Pelo gráfico acima vemos que os clientes são muito eufóricos no início. Há muitos clientes que estão fazendo sua 10ª compra pelo site, porém, há uma queda brusca na retenção de usuários após o 15º pedido e esse número continua caindo gradativamente."
   ]
  },
  {
   "cell_type": "markdown",
   "metadata": {
    "colab_type": "text",
    "id": "Uv9m4ENBbWGp"
   },
   "source": [
    "### **Análise dos pedidos**\n",
    "\n",
    "Abaixo temos o dataset  `data_train` para a criação do modelo. Esse dataset contém quais produtos foram comprados em cada ordem de compra. Através dele, conseguiremos montar um modelo que mostra que tipos de produtos devem ser recomendados para que os clientes comprem novamente. Vou analisar brevemente esse dataset, mas uma explorção mais profunda será feita com o pacote APRIORI em uma segunda etapa."
   ]
  },
  {
   "cell_type": "code",
   "execution_count": 5,
   "metadata": {
    "colab": {
     "base_uri": "https://localhost:8080/",
     "height": 34
    },
    "colab_type": "code",
    "id": "SxO2bAMwbycB",
    "outputId": "cef48d35-6ef8-41af-e754-9e79be300048"
   },
   "outputs": [
    {
     "data": {
      "text/html": [
       "<style>\n",
       ".list-inline {list-style: none; margin:0; padding: 0}\n",
       ".list-inline>li {display: inline-block}\n",
       ".list-inline>li:not(:last-child)::after {content: \"\\00b7\"; padding: 0 .5ex}\n",
       "</style>\n",
       "<ol class=list-inline><li>1384617</li><li>4</li></ol>\n"
      ],
      "text/latex": [
       "\\begin{enumerate*}\n",
       "\\item 1384617\n",
       "\\item 4\n",
       "\\end{enumerate*}\n"
      ],
      "text/markdown": [
       "1. 1384617\n",
       "2. 4\n",
       "\n",
       "\n"
      ],
      "text/plain": [
       "[1] 1384617       4"
      ]
     },
     "metadata": {},
     "output_type": "display_data"
    }
   ],
   "source": [
    "# Número total de produtos\n",
    "dim(data_train)"
   ]
  },
  {
   "cell_type": "code",
   "execution_count": 6,
   "metadata": {
    "colab": {
     "base_uri": "https://localhost:8080/",
     "height": 34
    },
    "colab_type": "code",
    "id": "Z61ZSwY62_fA",
    "outputId": "ca80e6c5-bafa-4860-a9e7-51dbe5f6ec24"
   },
   "outputs": [
    {
     "data": {
      "text/html": [
       "131209"
      ],
      "text/latex": [
       "131209"
      ],
      "text/markdown": [
       "131209"
      ],
      "text/plain": [
       "[1] 131209"
      ]
     },
     "metadata": {},
     "output_type": "display_data"
    }
   ],
   "source": [
    "# Número total de pedidos\n",
    "length(unique(data_train$order_id))"
   ]
  },
  {
   "cell_type": "code",
   "execution_count": 36,
   "metadata": {
    "colab": {
     "base_uri": "https://localhost:8080/",
     "height": 204
    },
    "colab_type": "code",
    "id": "Z25iHuNXcCzi",
    "outputId": "05dc9d03-0438-4999-fee9-0a3eac9e3143"
   },
   "outputs": [
    {
     "data": {
      "text/html": [
       "<table>\n",
       "<caption>A data.frame: 6 × 4</caption>\n",
       "<thead>\n",
       "\t<tr><th></th><th scope=col>order_id</th><th scope=col>product_id</th><th scope=col>add_to_cart_order</th><th scope=col>reordered</th></tr>\n",
       "\t<tr><th></th><th scope=col>&lt;int&gt;</th><th scope=col>&lt;int&gt;</th><th scope=col>&lt;int&gt;</th><th scope=col>&lt;int&gt;</th></tr>\n",
       "</thead>\n",
       "<tbody>\n",
       "\t<tr><th scope=row>1</th><td>1</td><td>49302</td><td>1</td><td>1</td></tr>\n",
       "\t<tr><th scope=row>2</th><td>1</td><td>11109</td><td>2</td><td>1</td></tr>\n",
       "\t<tr><th scope=row>3</th><td>1</td><td>10246</td><td>3</td><td>0</td></tr>\n",
       "\t<tr><th scope=row>4</th><td>1</td><td>49683</td><td>4</td><td>0</td></tr>\n",
       "\t<tr><th scope=row>5</th><td>1</td><td>43633</td><td>5</td><td>1</td></tr>\n",
       "\t<tr><th scope=row>6</th><td>1</td><td>13176</td><td>6</td><td>0</td></tr>\n",
       "</tbody>\n",
       "</table>\n"
      ],
      "text/latex": [
       "A data.frame: 6 × 4\n",
       "\\begin{tabular}{r|llll}\n",
       "  & order\\_id & product\\_id & add\\_to\\_cart\\_order & reordered\\\\\n",
       "  & <int> & <int> & <int> & <int>\\\\\n",
       "\\hline\n",
       "\t1 & 1 & 49302 & 1 & 1\\\\\n",
       "\t2 & 1 & 11109 & 2 & 1\\\\\n",
       "\t3 & 1 & 10246 & 3 & 0\\\\\n",
       "\t4 & 1 & 49683 & 4 & 0\\\\\n",
       "\t5 & 1 & 43633 & 5 & 1\\\\\n",
       "\t6 & 1 & 13176 & 6 & 0\\\\\n",
       "\\end{tabular}\n"
      ],
      "text/markdown": [
       "\n",
       "A data.frame: 6 × 4\n",
       "\n",
       "| <!--/--> | order_id &lt;int&gt; | product_id &lt;int&gt; | add_to_cart_order &lt;int&gt; | reordered &lt;int&gt; |\n",
       "|---|---|---|---|---|\n",
       "| 1 | 1 | 49302 | 1 | 1 |\n",
       "| 2 | 1 | 11109 | 2 | 1 |\n",
       "| 3 | 1 | 10246 | 3 | 0 |\n",
       "| 4 | 1 | 49683 | 4 | 0 |\n",
       "| 5 | 1 | 43633 | 5 | 1 |\n",
       "| 6 | 1 | 13176 | 6 | 0 |\n",
       "\n"
      ],
      "text/plain": [
       "  order_id product_id add_to_cart_order reordered\n",
       "1 1        49302      1                 1        \n",
       "2 1        11109      2                 1        \n",
       "3 1        10246      3                 0        \n",
       "4 1        49683      4                 0        \n",
       "5 1        43633      5                 1        \n",
       "6 1        13176      6                 0        "
      ]
     },
     "metadata": {},
     "output_type": "display_data"
    }
   ],
   "source": [
    "# Estrutura dos datasets (os dois tem a mesma estrutura)\n",
    "head(data_train)"
   ]
  },
  {
   "cell_type": "markdown",
   "metadata": {
    "colab_type": "text",
    "id": "sV26ZQ0581pb"
   },
   "source": [
    "- `order_id`: foreign key\n",
    "- `product_id`: foreign key\n",
    "- `add_to_cart_order`: order in which each product was added to cart\n",
    "- `reordered`: 1 if this product has been ordered by this user in the past, 0 otherwise"
   ]
  }
 ],
 "metadata": {
  "colab": {
   "collapsed_sections": [],
   "name": "Projeto_DSA_Market_Basket_Analysis.ipynb",
   "provenance": [],
   "toc_visible": true
  },
  "kernelspec": {
   "display_name": "R",
   "language": "R",
   "name": "ir"
  },
  "language_info": {
   "codemirror_mode": "r",
   "file_extension": ".r",
   "mimetype": "text/x-r-source",
   "name": "R",
   "pygments_lexer": "r",
   "version": "3.6.3"
  }
 },
 "nbformat": 4,
 "nbformat_minor": 1
}
