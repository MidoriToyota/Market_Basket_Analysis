{
 "cells": [
  {
   "cell_type": "markdown",
   "metadata": {},
   "source": [
    "# **Market Basket Analysis - Parte 2**\n",
    "\n",
    "---\n"
   ]
  },
  {
   "cell_type": "markdown",
   "metadata": {},
   "source": [
    "Esta é a parte 2 (Criação do modelo preditivo) de um dos projetos de conclusão do módulo Business Analytics da Formação Cientista de Dados da Data Science Academy (DSA)\n",
    "\n",
    "## **Definição do problema**\n",
    "\n",
    "Nesse projeto, utilizarei os dados anônimos fornecidos pelo instacart para prever quais produtos adquiridos anteriormente estarão no próximo pedido de um usuário. O instacart é um aplicativo de compras online, onde os compradores selecionam os produtos no app e a entrega é feita na loja mais próxima à você.\n",
    "\n",
    "“The Instacart Online Grocery Shopping Dataset 2017”, Accessed from:\n",
    "\n",
    "https://www.instacart.com/datasets/grocery-shopping-2017 on 25/05/2020.\n",
    "\n",
    "Post do VP da Instacart definindo o problema em detalhes:\n",
    "\n",
    "https://tech.instacart.com/3-million-instacart-orders-open-sourced-d40d29ead6f2?gi=41f7b19cd164"
   ]
  },
  {
   "cell_type": "code",
   "execution_count": null,
   "metadata": {},
   "outputs": [],
   "source": [
    "# Pacotes\n",
    "library(sqldf)\n",
    "library(Matrix)\n",
    "library(xgboost)\n",
    "library(methods)\n",
    "library(caret)\n",
    "library(dplyr)\n",
    "library(cowplot)\n",
    "library(randomForest) \n",
    "library(rpart)\n",
    "library(ROCR)\n",
    "library(pROC)"
   ]
  },
  {
   "cell_type": "code",
   "execution_count": 514,
   "metadata": {},
   "outputs": [],
   "source": [
    "# Carregando datasets\n",
    "orders = read.csv(\"orders.csv\", sep = \",\")\n",
    "products = read.csv(\"products.csv\", sep = \",\")\n",
    "aisles = read.csv(\"aisles.csv\", sep = \",\")\n",
    "departments = read.csv(\"departments.csv\", sep = \",\")\n",
    "order_products_train = read.csv(\"order_products__train.csv\", sep = \",\")"
   ]
  },
  {
   "cell_type": "markdown",
   "metadata": {},
   "source": [
    "## **Transformação**"
   ]
  },
  {
   "cell_type": "code",
   "execution_count": 515,
   "metadata": {},
   "outputs": [],
   "source": [
    "# Dataset com os dados\n",
    "dados = order_products_train"
   ]
  },
  {
   "cell_type": "code",
   "execution_count": 516,
   "metadata": {
    "scrolled": true
   },
   "outputs": [
    {
     "data": {
      "text/html": [
       "<table>\n",
       "<caption>A data.frame: 6 × 5</caption>\n",
       "<thead>\n",
       "\t<tr><th></th><th scope=col>product_id</th><th scope=col>product_freq</th><th scope=col>product_name</th><th scope=col>aisle_id</th><th scope=col>department_id</th></tr>\n",
       "\t<tr><th></th><th scope=col>&lt;fct&gt;</th><th scope=col>&lt;int&gt;</th><th scope=col>&lt;fct&gt;</th><th scope=col>&lt;int&gt;</th><th scope=col>&lt;int&gt;</th></tr>\n",
       "</thead>\n",
       "<tbody>\n",
       "\t<tr><th scope=row>1</th><td>1    </td><td> 76</td><td>Chocolate Sandwich Cookies                    </td><td> 61</td><td>19</td></tr>\n",
       "\t<tr><th scope=row>2</th><td><span style=white-space:pre-wrap>10   </span></td><td>119</td><td>Sparkling Orange Juice &amp; Prickly Pear Beverage</td><td>115</td><td> 7</td></tr>\n",
       "\t<tr><th scope=row>3</th><td><span style=white-space:pre-wrap>100  </span></td><td> 20</td><td><span style=white-space:pre-wrap>Peanut Butter &amp; Strawberry Jam Sandwich       </span></td><td> 38</td><td> 1</td></tr>\n",
       "\t<tr><th scope=row>4</th><td>1000 </td><td> 87</td><td>Apricots                                      </td><td> 18</td><td>10</td></tr>\n",
       "\t<tr><th scope=row>5</th><td>10000</td><td>  2</td><td>Refresher Strawberry Lemonade                 </td><td> 64</td><td> 7</td></tr>\n",
       "\t<tr><th scope=row>6</th><td>10001</td><td>  1</td><td>Green with Mint Cold Brewed Iced Tea Bags     </td><td> 94</td><td> 7</td></tr>\n",
       "</tbody>\n",
       "</table>\n"
      ],
      "text/latex": [
       "A data.frame: 6 × 5\n",
       "\\begin{tabular}{r|lllll}\n",
       "  & product\\_id & product\\_freq & product\\_name & aisle\\_id & department\\_id\\\\\n",
       "  & <fct> & <int> & <fct> & <int> & <int>\\\\\n",
       "\\hline\n",
       "\t1 & 1     &  76 & Chocolate Sandwich Cookies                     &  61 & 19\\\\\n",
       "\t2 & 10    & 119 & Sparkling Orange Juice \\& Prickly Pear Beverage & 115 &  7\\\\\n",
       "\t3 & 100   &  20 & Peanut Butter \\& Strawberry Jam Sandwich        &  38 &  1\\\\\n",
       "\t4 & 1000  &  87 & Apricots                                       &  18 & 10\\\\\n",
       "\t5 & 10000 &   2 & Refresher Strawberry Lemonade                  &  64 &  7\\\\\n",
       "\t6 & 10001 &   1 & Green with Mint Cold Brewed Iced Tea Bags      &  94 &  7\\\\\n",
       "\\end{tabular}\n"
      ],
      "text/markdown": [
       "\n",
       "A data.frame: 6 × 5\n",
       "\n",
       "| <!--/--> | product_id &lt;fct&gt; | product_freq &lt;int&gt; | product_name &lt;fct&gt; | aisle_id &lt;int&gt; | department_id &lt;int&gt; |\n",
       "|---|---|---|---|---|---|\n",
       "| 1 | 1     |  76 | Chocolate Sandwich Cookies                     |  61 | 19 |\n",
       "| 2 | 10    | 119 | Sparkling Orange Juice &amp; Prickly Pear Beverage | 115 |  7 |\n",
       "| 3 | 100   |  20 | Peanut Butter &amp; Strawberry Jam Sandwich        |  38 |  1 |\n",
       "| 4 | 1000  |  87 | Apricots                                       |  18 | 10 |\n",
       "| 5 | 10000 |   2 | Refresher Strawberry Lemonade                  |  64 |  7 |\n",
       "| 6 | 10001 |   1 | Green with Mint Cold Brewed Iced Tea Bags      |  94 |  7 |\n",
       "\n"
      ],
      "text/plain": [
       "  product_id product_freq product_name                                  \n",
       "1 1           76          Chocolate Sandwich Cookies                    \n",
       "2 10         119          Sparkling Orange Juice & Prickly Pear Beverage\n",
       "3 100         20          Peanut Butter & Strawberry Jam Sandwich       \n",
       "4 1000        87          Apricots                                      \n",
       "5 10000        2          Refresher Strawberry Lemonade                 \n",
       "6 10001        1          Green with Mint Cold Brewed Iced Tea Bags     \n",
       "  aisle_id department_id\n",
       "1  61      19           \n",
       "2 115       7           \n",
       "3  38       1           \n",
       "4  18      10           \n",
       "5  64       7           \n",
       "6  94       7           "
      ]
     },
     "metadata": {},
     "output_type": "display_data"
    }
   ],
   "source": [
    "# Transformando a frequencia do product_id no \"peso do produto\n",
    "dados$product_id = factor(dados$product_id)\n",
    "product_id2 = as.data.frame(table(dados$product_id))\n",
    "colnames(product_id2) = c(\"product_id\", \"product_freq\")\n",
    "\n",
    "# adicionando colunas aisles e departments\n",
    "product_id2 = merge(product_id2, products, by = \"product_id\")\n",
    "head(product_id2)"
   ]
  },
  {
   "cell_type": "code",
   "execution_count": 517,
   "metadata": {},
   "outputs": [
    {
     "data": {
      "text/html": [
       "<table>\n",
       "<caption>A data.frame: 6 × 7</caption>\n",
       "<thead>\n",
       "\t<tr><th></th><th scope=col>product_id</th><th scope=col>order_id</th><th scope=col>add_to_cart_order</th><th scope=col>reordered</th><th scope=col>product_freq</th><th scope=col>aisle_freq</th><th scope=col>department_freq</th></tr>\n",
       "\t<tr><th></th><th scope=col>&lt;fct&gt;</th><th scope=col>&lt;int&gt;</th><th scope=col>&lt;int&gt;</th><th scope=col>&lt;int&gt;</th><th scope=col>&lt;int&gt;</th><th scope=col>&lt;int&gt;</th><th scope=col>&lt;int&gt;</th></tr>\n",
       "</thead>\n",
       "<tbody>\n",
       "\t<tr><th scope=row>1</th><td>1</td><td>1753356</td><td> 1</td><td>1</td><td>76</td><td>9980</td><td>118862</td></tr>\n",
       "\t<tr><th scope=row>2</th><td>1</td><td>2742935</td><td> 2</td><td>1</td><td>76</td><td>9980</td><td>118862</td></tr>\n",
       "\t<tr><th scope=row>3</th><td>1</td><td> 943055</td><td>14</td><td>0</td><td>76</td><td>9980</td><td>118862</td></tr>\n",
       "\t<tr><th scope=row>4</th><td>1</td><td>3357764</td><td> 6</td><td>1</td><td>76</td><td>9980</td><td>118862</td></tr>\n",
       "\t<tr><th scope=row>5</th><td>1</td><td>2050666</td><td> 6</td><td>0</td><td>76</td><td>9980</td><td>118862</td></tr>\n",
       "\t<tr><th scope=row>6</th><td>1</td><td>1627973</td><td> 1</td><td>0</td><td>76</td><td>9980</td><td>118862</td></tr>\n",
       "</tbody>\n",
       "</table>\n"
      ],
      "text/latex": [
       "A data.frame: 6 × 7\n",
       "\\begin{tabular}{r|lllllll}\n",
       "  & product\\_id & order\\_id & add\\_to\\_cart\\_order & reordered & product\\_freq & aisle\\_freq & department\\_freq\\\\\n",
       "  & <fct> & <int> & <int> & <int> & <int> & <int> & <int>\\\\\n",
       "\\hline\n",
       "\t1 & 1 & 1753356 &  1 & 1 & 76 & 9980 & 118862\\\\\n",
       "\t2 & 1 & 2742935 &  2 & 1 & 76 & 9980 & 118862\\\\\n",
       "\t3 & 1 &  943055 & 14 & 0 & 76 & 9980 & 118862\\\\\n",
       "\t4 & 1 & 3357764 &  6 & 1 & 76 & 9980 & 118862\\\\\n",
       "\t5 & 1 & 2050666 &  6 & 0 & 76 & 9980 & 118862\\\\\n",
       "\t6 & 1 & 1627973 &  1 & 0 & 76 & 9980 & 118862\\\\\n",
       "\\end{tabular}\n"
      ],
      "text/markdown": [
       "\n",
       "A data.frame: 6 × 7\n",
       "\n",
       "| <!--/--> | product_id &lt;fct&gt; | order_id &lt;int&gt; | add_to_cart_order &lt;int&gt; | reordered &lt;int&gt; | product_freq &lt;int&gt; | aisle_freq &lt;int&gt; | department_freq &lt;int&gt; |\n",
       "|---|---|---|---|---|---|---|---|\n",
       "| 1 | 1 | 1753356 |  1 | 1 | 76 | 9980 | 118862 |\n",
       "| 2 | 1 | 2742935 |  2 | 1 | 76 | 9980 | 118862 |\n",
       "| 3 | 1 |  943055 | 14 | 0 | 76 | 9980 | 118862 |\n",
       "| 4 | 1 | 3357764 |  6 | 1 | 76 | 9980 | 118862 |\n",
       "| 5 | 1 | 2050666 |  6 | 0 | 76 | 9980 | 118862 |\n",
       "| 6 | 1 | 1627973 |  1 | 0 | 76 | 9980 | 118862 |\n",
       "\n"
      ],
      "text/plain": [
       "  product_id order_id add_to_cart_order reordered product_freq aisle_freq\n",
       "1 1          1753356   1                1         76           9980      \n",
       "2 1          2742935   2                1         76           9980      \n",
       "3 1           943055  14                0         76           9980      \n",
       "4 1          3357764   6                1         76           9980      \n",
       "5 1          2050666   6                0         76           9980      \n",
       "6 1          1627973   1                0         76           9980      \n",
       "  department_freq\n",
       "1 118862         \n",
       "2 118862         \n",
       "3 118862         \n",
       "4 118862         \n",
       "5 118862         \n",
       "6 118862         "
      ]
     },
     "metadata": {},
     "output_type": "display_data"
    }
   ],
   "source": [
    "# Adicionando as frequências de products, aisles e departments nos dados\n",
    "aisle_id2 = sqldf( \" SELECT aisle_id, SUM(product_freq) AS aisle_freq\n",
    "                      FROM product_id2 \n",
    "                      GROUP BY aisle_id \" )\n",
    "\n",
    "\n",
    "department_id2 = sqldf( \" SELECT department_id, SUM(product_freq) AS department_freq\n",
    "                          FROM product_id2 \n",
    "                          GROUP BY department_id \" )\n",
    "\n",
    "product_id2 = sqldf( \" SELECT p.product_id, p.product_freq, a.aisle_freq, d.department_freq\n",
    "                       FROM product_id2 AS p\n",
    "                       LEFT JOIN aisle_id2 AS a\n",
    "                       ON p.aisle_id = a.aisle_id\n",
    "                       LEFT JOIN department_id2 AS d\n",
    "                       ON p.department_id = d.department_id \" )\n",
    "\n",
    "# Inserir product_id2 nos dados\n",
    "dados2 = merge(dados, product_id2, by = \"product_id\")\n",
    "\n",
    "# Visualização\n",
    "head(dados2)"
   ]
  },
  {
   "cell_type": "code",
   "execution_count": 518,
   "metadata": {},
   "outputs": [
    {
     "data": {
      "text/html": [
       "<table>\n",
       "<caption>A data.frame: 6 × 11</caption>\n",
       "<thead>\n",
       "\t<tr><th></th><th scope=col>order_id</th><th scope=col>product_id</th><th scope=col>user_id</th><th scope=col>add_to_cart_order</th><th scope=col>product_freq</th><th scope=col>aisle_freq</th><th scope=col>department_freq</th><th scope=col>order_number</th><th scope=col>user_avg_days</th><th scope=col>user_last_order</th><th scope=col>reordered</th></tr>\n",
       "\t<tr><th></th><th scope=col>&lt;int&gt;</th><th scope=col>&lt;fct&gt;</th><th scope=col>&lt;int&gt;</th><th scope=col>&lt;int&gt;</th><th scope=col>&lt;int&gt;</th><th scope=col>&lt;int&gt;</th><th scope=col>&lt;int&gt;</th><th scope=col>&lt;int&gt;</th><th scope=col>&lt;dbl&gt;</th><th scope=col>&lt;int&gt;</th><th scope=col>&lt;int&gt;</th></tr>\n",
       "</thead>\n",
       "<tbody>\n",
       "\t<tr><th scope=row>1</th><td>1</td><td>49302</td><td>112108</td><td>1</td><td>    8</td><td> 55240</td><td>217051</td><td>4</td><td>10.33333</td><td>4</td><td>1</td></tr>\n",
       "\t<tr><th scope=row>2</th><td>1</td><td>22035</td><td>112108</td><td>8</td><td> 1993</td><td> 41699</td><td>217051</td><td>4</td><td>10.33333</td><td>4</td><td>1</td></tr>\n",
       "\t<tr><th scope=row>3</th><td>1</td><td>47209</td><td>112108</td><td>7</td><td> 7293</td><td>150473</td><td>409087</td><td>4</td><td>10.33333</td><td>4</td><td>0</td></tr>\n",
       "\t<tr><th scope=row>4</th><td>1</td><td>11109</td><td>112108</td><td>2</td><td>  144</td><td> 12820</td><td>217051</td><td>4</td><td>10.33333</td><td>4</td><td>1</td></tr>\n",
       "\t<tr><th scope=row>5</th><td>1</td><td>13176</td><td>112108</td><td>6</td><td>15480</td><td>150473</td><td>409087</td><td>4</td><td>10.33333</td><td>4</td><td>0</td></tr>\n",
       "\t<tr><th scope=row>6</th><td>1</td><td>43633</td><td>112108</td><td>5</td><td>   24</td><td>  3241</td><td> 46799</td><td>4</td><td>10.33333</td><td>4</td><td>1</td></tr>\n",
       "</tbody>\n",
       "</table>\n"
      ],
      "text/latex": [
       "A data.frame: 6 × 11\n",
       "\\begin{tabular}{r|lllllllllll}\n",
       "  & order\\_id & product\\_id & user\\_id & add\\_to\\_cart\\_order & product\\_freq & aisle\\_freq & department\\_freq & order\\_number & user\\_avg\\_days & user\\_last\\_order & reordered\\\\\n",
       "  & <int> & <fct> & <int> & <int> & <int> & <int> & <int> & <int> & <dbl> & <int> & <int>\\\\\n",
       "\\hline\n",
       "\t1 & 1 & 49302 & 112108 & 1 &     8 &  55240 & 217051 & 4 & 10.33333 & 4 & 1\\\\\n",
       "\t2 & 1 & 22035 & 112108 & 8 &  1993 &  41699 & 217051 & 4 & 10.33333 & 4 & 1\\\\\n",
       "\t3 & 1 & 47209 & 112108 & 7 &  7293 & 150473 & 409087 & 4 & 10.33333 & 4 & 0\\\\\n",
       "\t4 & 1 & 11109 & 112108 & 2 &   144 &  12820 & 217051 & 4 & 10.33333 & 4 & 1\\\\\n",
       "\t5 & 1 & 13176 & 112108 & 6 & 15480 & 150473 & 409087 & 4 & 10.33333 & 4 & 0\\\\\n",
       "\t6 & 1 & 43633 & 112108 & 5 &    24 &   3241 &  46799 & 4 & 10.33333 & 4 & 1\\\\\n",
       "\\end{tabular}\n"
      ],
      "text/markdown": [
       "\n",
       "A data.frame: 6 × 11\n",
       "\n",
       "| <!--/--> | order_id &lt;int&gt; | product_id &lt;fct&gt; | user_id &lt;int&gt; | add_to_cart_order &lt;int&gt; | product_freq &lt;int&gt; | aisle_freq &lt;int&gt; | department_freq &lt;int&gt; | order_number &lt;int&gt; | user_avg_days &lt;dbl&gt; | user_last_order &lt;int&gt; | reordered &lt;int&gt; |\n",
       "|---|---|---|---|---|---|---|---|---|---|---|---|\n",
       "| 1 | 1 | 49302 | 112108 | 1 |     8 |  55240 | 217051 | 4 | 10.33333 | 4 | 1 |\n",
       "| 2 | 1 | 22035 | 112108 | 8 |  1993 |  41699 | 217051 | 4 | 10.33333 | 4 | 1 |\n",
       "| 3 | 1 | 47209 | 112108 | 7 |  7293 | 150473 | 409087 | 4 | 10.33333 | 4 | 0 |\n",
       "| 4 | 1 | 11109 | 112108 | 2 |   144 |  12820 | 217051 | 4 | 10.33333 | 4 | 1 |\n",
       "| 5 | 1 | 13176 | 112108 | 6 | 15480 | 150473 | 409087 | 4 | 10.33333 | 4 | 0 |\n",
       "| 6 | 1 | 43633 | 112108 | 5 |    24 |   3241 |  46799 | 4 | 10.33333 | 4 | 1 |\n",
       "\n"
      ],
      "text/plain": [
       "  order_id product_id user_id add_to_cart_order product_freq aisle_freq\n",
       "1 1        49302      112108  1                     8         55240    \n",
       "2 1        22035      112108  8                  1993         41699    \n",
       "3 1        47209      112108  7                  7293        150473    \n",
       "4 1        11109      112108  2                   144         12820    \n",
       "5 1        13176      112108  6                 15480        150473    \n",
       "6 1        43633      112108  5                    24          3241    \n",
       "  department_freq order_number user_avg_days user_last_order reordered\n",
       "1 217051          4            10.33333      4               1        \n",
       "2 217051          4            10.33333      4               1        \n",
       "3 409087          4            10.33333      4               0        \n",
       "4 217051          4            10.33333      4               1        \n",
       "5 409087          4            10.33333      4               0        \n",
       "6  46799          4            10.33333      4               1        "
      ]
     },
     "metadata": {},
     "output_type": "display_data"
    }
   ],
   "source": [
    "# Dados sobre o perfil de compra do usuário\n",
    "user_days_since_order = sqldf( \" SELECT user_id, AVG(days_since_prior_order) AS user_avg_days\n",
    "                                 FROM orders \n",
    "                                 WHERE days_since_prior_order IS NOT NULL\n",
    "                                 GROUP BY user_id \" )\n",
    "\n",
    "user_order_number = sqldf( \" SELECT user_id, MAX(order_number) as user_last_order\n",
    "                             FROM orders\n",
    "                             GROUP BY user_id \" )\n",
    "\n",
    "user_id2 = sqldf( \" SELECT o.order_id, o.user_id, o.order_number, d.user_avg_days, n.user_last_order\n",
    "                    FROM orders AS o\n",
    "                    LEFT JOIN user_days_since_order AS d\n",
    "                    ON o.user_id = d.user_id\n",
    "                    LEFT JOIN user_order_number AS n\n",
    "                    ON o.user_id = n.user_id \" )\n",
    "\n",
    "# Inserir perfil do usuário nos dados\n",
    "dados3 = merge(dados2, user_id2, by = \"order_id\")\n",
    "\n",
    "# Mudar as colunas de posição - (colunas id no início e coluna reorder por último)\n",
    "dados4 = dados3[, c(1,2,8,3,5,6,7,9,10,11,4)]\n",
    "\n",
    "# Visualização\n",
    "head(dados4)"
   ]
  },
  {
   "cell_type": "code",
   "execution_count": 519,
   "metadata": {},
   "outputs": [],
   "source": [
    "# Separação dados de treino e dados de teste \n",
    "amostra = floor(nrow(dados4) * 0.8)                  # 80% para treino e 20% para teste\n",
    "data_train = dados4[1:amostra, ]                     # dataset de treino - primeiros 80%\n",
    "data_test  = dados4[(amostra+1):nrow(dados4), ]      # dataset de teste - 20% restantes"
   ]
  },
  {
   "cell_type": "markdown",
   "metadata": {},
   "source": [
    "## **Modelo - XGBoost**"
   ]
  },
  {
   "cell_type": "code",
   "execution_count": 520,
   "metadata": {},
   "outputs": [],
   "source": [
    "# Dados de entrada (Treino) \n",
    "data = as.matrix(data_train[4:10]) \n",
    "\n",
    "# Dados considerados:\n",
    "# add_to_cart_order (4)\n",
    "# product_freq (5)\n",
    "# aisle_freq (6)\n",
    "# department_freq (7)\n",
    "# order_number (8)\n",
    "# user_avg_days (9)\n",
    "# user_last_order (10)"
   ]
  },
  {
   "cell_type": "code",
   "execution_count": 521,
   "metadata": {},
   "outputs": [
    {
     "name": "stdout",
     "output_type": "stream",
     "text": [
      "Class 'xgb.DMatrix' <externalptr> \n",
      " - attr(*, \".Dimnames\")=List of 2\n",
      "  ..$ : NULL\n",
      "  ..$ : chr [1:7] \"add_to_cart_order\" \"product_freq\" \"aisle_freq\" \"department_freq\" ...\n"
     ]
    }
   ],
   "source": [
    "# Set dos parâmetros\n",
    "param = list(\"objective\" = \"binary:logitraw\",\n",
    "            \"bst:eta\" = 0.1,\n",
    "            \"bst:max_depth\" = 6,\n",
    "             \"eval_metric\" = \"auc\",\n",
    "             \"eval_metric\" = \"ams@0.15\",\n",
    "             \"silent\" = 1,\n",
    "             \"nthread\" = 16)\n",
    "\n",
    "label = data_train$reordered\n",
    "xgmat = xgb.DMatrix(data, label = label)\n",
    "\n",
    "# Visuzalização\n",
    "str(xgmat)"
   ]
  },
  {
   "cell_type": "code",
   "execution_count": null,
   "metadata": {},
   "outputs": [],
   "source": [
    "# Criação do modelo\n",
    "bst = xgboost(params = param, data = xgmat, nround = 120)"
   ]
  },
  {
   "cell_type": "code",
   "execution_count": 554,
   "metadata": {},
   "outputs": [],
   "source": [
    "# Dados de entrada (Treino) \n",
    "data = as.matrix(data_test[4:10]) \n",
    "\n",
    "# Aplicação do modelo\n",
    "xgmat = xgb.DMatrix(data)\n",
    "ypred = predict(bst, xgmat, type = \"prob\")"
   ]
  },
  {
   "cell_type": "markdown",
   "metadata": {},
   "source": [
    "### **Aplicação do modelo com threshold estimado** \n",
    "\n",
    "Threshold calculado à partir da proporção de respostas \"yes\" observadas nos dados de treino."
   ]
  },
  {
   "cell_type": "code",
   "execution_count": 524,
   "metadata": {},
   "outputs": [
    {
     "name": "stdout",
     "output_type": "stream",
     "text": [
      "[1] 0.5985548\n"
     ]
    }
   ],
   "source": [
    "# Estimativa do threshold com base nas respostas dos dados de treino\n",
    "respostas_yes = sum(data_train$reordered)\n",
    "respostas_no = length(data_train$reordered) - respostas_yes\n",
    "threshold = respostas_yes/(respostas_yes + respostas_no)\n",
    "print(threshold) # 60% dos valores serão considerados \"yes\""
   ]
  },
  {
   "cell_type": "code",
   "execution_count": 525,
   "metadata": {},
   "outputs": [
    {
     "data": {
      "text/plain": [
       "Confusion Matrix and Statistics\n",
       "\n",
       "          Reference\n",
       "Prediction     no    yes\n",
       "       no   66863  44307\n",
       "       yes  44252 121502\n",
       "                                          \n",
       "               Accuracy : 0.6802          \n",
       "                 95% CI : (0.6785, 0.6819)\n",
       "    No Information Rate : 0.5988          \n",
       "    P-Value [Acc > NIR] : <2e-16          \n",
       "                                          \n",
       "                  Kappa : 0.3345          \n",
       "                                          \n",
       " Mcnemar's Test P-Value : 0.856           \n",
       "                                          \n",
       "            Sensitivity : 0.6017          \n",
       "            Specificity : 0.7328          \n",
       "         Pos Pred Value : 0.6014          \n",
       "         Neg Pred Value : 0.7330          \n",
       "             Prevalence : 0.4012          \n",
       "         Detection Rate : 0.2414          \n",
       "   Detection Prevalence : 0.4014          \n",
       "      Balanced Accuracy : 0.6673          \n",
       "                                          \n",
       "       'Positive' Class : no              \n",
       "                                          "
      ]
     },
     "metadata": {},
     "output_type": "display_data"
    }
   ],
   "source": [
    "# Cálculo do Output - Utilizando threshold estimado\n",
    "rorder = rank(ypred, ties.method = \"first\" ) # Ranqueia valores ypred                           \n",
    "ntop = length(rorder) - as.integer(threshold * length(rorder))\n",
    "plabel = ifelse(rorder > ntop, 1, 0)\n",
    "outdata_binario = list(\"prediction\" = plabel) \n",
    "\n",
    "# Matriz de confusão\n",
    "pred_xgboost = as.data.frame(outdata_binario)\n",
    "pred_xgboost$prediction = factor(pred_xgboost$prediction, labels = c(\"no\", \"yes\"))\n",
    "data_test$reordered = factor(data_test$reordered, labels = c(\"no\", \"yes\"))\n",
    "confusion = confusionMatrix(pred_xgboost$prediction, data_test$reordered)\n",
    "confusion"
   ]
  },
  {
   "cell_type": "code",
   "execution_count": 526,
   "metadata": {},
   "outputs": [
    {
     "data": {
      "text/html": [
       "0.667264419849847"
      ],
      "text/latex": [
       "0.667264419849847"
      ],
      "text/markdown": [
       "0.667264419849847"
      ],
      "text/plain": [
       "[1] 0.6672644"
      ]
     },
     "metadata": {},
     "output_type": "display_data"
    }
   ],
   "source": [
    "# Cálculo da Área Under the Curve (AUC) - valores binários\n",
    "pred = prediction(outdata_binario, data_test$reordered)\n",
    "AUC_xgboost_bin = performance(pred, measure = \"auc\")\n",
    "AUC_xgboost_bin = AUC_xgboost_bin@y.values[[1]]\n",
    "AUC_xgboost_bin"
   ]
  },
  {
   "cell_type": "code",
   "execution_count": 527,
   "metadata": {},
   "outputs": [
    {
     "data": {
      "text/html": [
       "0.735643255444282"
      ],
      "text/latex": [
       "0.735643255444282"
      ],
      "text/markdown": [
       "0.735643255444282"
      ],
      "text/plain": [
       "[1] 0.7356433"
      ]
     },
     "metadata": {},
     "output_type": "display_data"
    }
   ],
   "source": [
    "# Cálculo da Área Under the Curve (AUC) - valores contínuos\n",
    "outdata = prediction(ypred, data_test$reordered)\n",
    "AUC_xgboost = performance(outdata,\"auc\")\n",
    "AUC_xgboost = AUC_xgboost@y.values[[1]]\n",
    "AUC_xgboost"
   ]
  },
  {
   "cell_type": "code",
   "execution_count": 528,
   "metadata": {},
   "outputs": [
    {
     "data": {
      "image/png": "[encoded data removed]",
      "text/plain": [
       "Plot with title \"Curva ROC\""
      ]
     },
     "metadata": {
      "image/png": {
       "height": 420,
       "width": 420
      },
      "text/plain": {
       "height": 420,
       "width": 420
      }
     },
     "output_type": "display_data"
    }
   ],
   "source": [
    "# Plot da curva ROC\n",
    "perform = performance(outdata, measure = \"tpr\", x.measure = \"fpr\")\n",
    "plot(perform, main = \"Curva ROC\")"
   ]
  },
  {
   "cell_type": "markdown",
   "metadata": {},
   "source": [
    "### **Aplicação do modelo com threshold ideal**\n",
    "\n",
    "O threshold será calculado com no índice que fornecer a maior acurácia. Existem várias formas de se calcular a acurácia, e a`confusionMatrix` fornece uma delas. Essa acurácia é calculada pela quantidade de acertos (positivos e negativos) dividido pelo número total da amostra. (TP + TN)/(P + N)"
   ]
  },
  {
   "cell_type": "code",
   "execution_count": 557,
   "metadata": {},
   "outputs": [
    {
     "data": {
      "image/png": "[encoded data removed]",
      "text/plain": [
       "Plot with title \"Acurácia por threshold\""
      ]
     },
     "metadata": {
      "image/png": {
       "height": 420,
       "width": 420
      },
      "text/plain": {
       "height": 420,
       "width": 420
      }
     },
     "output_type": "display_data"
    }
   ],
   "source": [
    "# Threshold ideal com base na acurácia dos resultados - pela fórmula da confusion matrix\n",
    "thresh = c(0)\n",
    "acc = c(0)\n",
    "\n",
    "for (i in 1:49) {\n",
    "    # Formatação da tabela de saída\n",
    "    rorder = rank(ypred, ties.method = \"first\" ) # Ranqueia valores ypred\n",
    "    threshold = 0.02*i                              # 60% dos valores serão considerados \"yes\"\n",
    "    ntop = length(rorder) - as.integer(threshold * length(rorder))\n",
    "    plabel = ifelse(rorder > ntop, 1, 0)\n",
    "    outdata_binario = list(\"prediction\" = plabel) \n",
    "\n",
    "    # Matriz de confusão\n",
    "    pred_xgboost = as.data.frame(outdata_binario)\n",
    "    pred_xgboost$prediction = factor(pred_xgboost$prediction, labels = c(\"no\", \"yes\"))\n",
    "    data_test$reordered = factor(data_test$reordered, labels = c(\"no\", \"yes\"))\n",
    "    confusion = confusionMatrix(pred_xgboost$prediction, data_test$reordered)\n",
    "    \n",
    "    thresh[i] = threshold\n",
    "    acc[i] = confusion$overall[1]\n",
    "}\n",
    "\n",
    "plot(x = thresh, y = acc, type = \"l\", ylab = \"Accuracy\", xlab = \"Threshold\", main = \"Acurácia por threshold\")\n",
    "points(x = which.max(acc)*0.02, max(acc), col = \"red\", pch = 19,  cex = 2 )"
   ]
  },
  {
   "cell_type": "code",
   "execution_count": 530,
   "metadata": {},
   "outputs": [
    {
     "data": {
      "text/html": [
       "0.684111886293712"
      ],
      "text/latex": [
       "0.684111886293712"
      ],
      "text/markdown": [
       "0.684111886293712"
      ],
      "text/plain": [
       "[1] 0.6841119"
      ]
     },
     "metadata": {},
     "output_type": "display_data"
    }
   ],
   "source": [
    "#Threshold ideal\n",
    "threshold = max(acc)\n",
    "threshold"
   ]
  },
  {
   "cell_type": "code",
   "execution_count": 531,
   "metadata": {},
   "outputs": [
    {
     "data": {
      "text/plain": [
       "Confusion Matrix and Statistics\n",
       "\n",
       "          Reference\n",
       "Prediction     no    yes\n",
       "       no   55546  31931\n",
       "       yes  55569 133878\n",
       "                                          \n",
       "               Accuracy : 0.684           \n",
       "                 95% CI : (0.6823, 0.6858)\n",
       "    No Information Rate : 0.5988          \n",
       "    P-Value [Acc > NIR] : < 2.2e-16       \n",
       "                                          \n",
       "                  Kappa : 0.3185          \n",
       "                                          \n",
       " Mcnemar's Test P-Value : < 2.2e-16       \n",
       "                                          \n",
       "            Sensitivity : 0.4999          \n",
       "            Specificity : 0.8074          \n",
       "         Pos Pred Value : 0.6350          \n",
       "         Neg Pred Value : 0.7067          \n",
       "             Prevalence : 0.4012          \n",
       "         Detection Rate : 0.2006          \n",
       "   Detection Prevalence : 0.3159          \n",
       "      Balanced Accuracy : 0.6537          \n",
       "                                          \n",
       "       'Positive' Class : no              \n",
       "                                          "
      ]
     },
     "metadata": {},
     "output_type": "display_data"
    }
   ],
   "source": [
    "# Formatação do output - Utilizando threshold ideal\n",
    "rorder = rank(ypred, ties.method = \"first\" ) # Ranqueia valores ypred                           \n",
    "ntop = length(rorder) - as.integer(threshold * length(rorder))\n",
    "plabel = ifelse(rorder > ntop, 1, 0)\n",
    "outdata_binario = list(\"prediction\" = plabel) \n",
    "\n",
    "# Matriz de confusão\n",
    "pred_xgboost = as.data.frame(outdata_binario)\n",
    "pred_xgboost$prediction = factor(pred_xgboost$prediction, labels = c(\"no\", \"yes\"))\n",
    "data_test$reordered = factor(data_test$reordered, labels = c(\"no\", \"yes\"))\n",
    "confusion = confusionMatrix(pred_xgboost$prediction, data_test$reordered)\n",
    "confusion"
   ]
  },
  {
   "cell_type": "code",
   "execution_count": 532,
   "metadata": {},
   "outputs": [
    {
     "data": {
      "text/html": [
       "0.653659751186974"
      ],
      "text/latex": [
       "0.653659751186974"
      ],
      "text/markdown": [
       "0.653659751186974"
      ],
      "text/plain": [
       "[1] 0.6536598"
      ]
     },
     "metadata": {},
     "output_type": "display_data"
    }
   ],
   "source": [
    "# Cálculo da Área Under the Curve (AUC) - valores binários\n",
    "pred = prediction(outdata_binario, data_test$reordered)\n",
    "AUC_xgboost_bin = performance(pred, measure = \"auc\")\n",
    "AUC_xgboost_bin = AUC_xgboost_bin@y.values[[1]]\n",
    "AUC_xgboost_bin"
   ]
  },
  {
   "cell_type": "code",
   "execution_count": 533,
   "metadata": {},
   "outputs": [
    {
     "data": {
      "text/html": [
       "0.735643255444282"
      ],
      "text/latex": [
       "0.735643255444282"
      ],
      "text/markdown": [
       "0.735643255444282"
      ],
      "text/plain": [
       "[1] 0.7356433"
      ]
     },
     "metadata": {},
     "output_type": "display_data"
    }
   ],
   "source": [
    "# Cálculo da Área Under the Curve (AUC) - valores contínuos\n",
    "outdata = prediction(ypred, data_test$reordered)\n",
    "AUC_xgboost = performance(outdata,\"auc\")\n",
    "AUC_xgboost = AUC_xgboost@y.values[[1]]\n",
    "AUC_xgboost"
   ]
  },
  {
   "cell_type": "markdown",
   "metadata": {},
   "source": [
    "**Conclusão** : Mesmo que o threshold ideal tenha aumentado a acurácia de forma geral, ele aumenta a quantidade de falsos positivos, diminuindo assim a AUC. Isso acontece pois a fórmula da acurácia, considera a acurácia total (true-positives e true-negatives) já a AUC considera o desempenho dos true-positives e false-positives.\n",
    "\n",
    "Como o maior foco desse projeto é descobrir os true-positives, levarei o resultado do threshold estimado para a conclusão, pois ele demonstrou desempenho melhor na identificação de true-positives.\n",
    "\n",
    "Vale destacar também, que é muito mais prático fazer uma estimativa, nem sempre será viável calcular precisamente qual é o threshold ideal. \n",
    "\n",
    "Essa conclusão é válida apenas para esse problema. Há momentos em que a acurácia total é mais importante do que o valor da AUC, cabendo interpretação do analista."
   ]
  },
  {
   "cell_type": "markdown",
   "metadata": {},
   "source": [
    "## **Modelo - Regressão Logística**"
   ]
  },
  {
   "cell_type": "code",
   "execution_count": 534,
   "metadata": {},
   "outputs": [
    {
     "data": {
      "text/plain": [
       "\n",
       "Call:\n",
       "glm(formula = (reordered) ~ +add_to_cart_order + product_freq + \n",
       "    aisle_freq + department_freq + order_number + user_avg_days, \n",
       "    family = binomial(logit), data = data_train)\n",
       "\n",
       "Deviance Residuals: \n",
       "    Min       1Q   Median       3Q      Max  \n",
       "-3.3051  -1.1596   0.6484   1.0248   2.4596  \n",
       "\n",
       "Coefficients:\n",
       "                    Estimate Std. Error z value Pr(>|z|)    \n",
       "(Intercept)        3.789e-01  8.834e-03   42.89   <2e-16 ***\n",
       "add_to_cart_order -4.113e-02  2.818e-04 -145.93   <2e-16 ***\n",
       "product_freq       1.092e-04  1.062e-06  102.90   <2e-16 ***\n",
       "aisle_freq        -1.883e-06  7.940e-08  -23.72   <2e-16 ***\n",
       "department_freq    1.254e-06  2.879e-08   43.55   <2e-16 ***\n",
       "order_number       3.080e-02  1.972e-04  156.17   <2e-16 ***\n",
       "user_avg_days     -2.413e-02  3.694e-04  -65.33   <2e-16 ***\n",
       "---\n",
       "Signif. codes:  0 '***' 0.001 '**' 0.01 '*' 0.05 '.' 0.1 ' ' 1\n",
       "\n",
       "(Dispersion parameter for binomial family taken to be 1)\n",
       "\n",
       "    Null deviance: 1492269  on 1107692  degrees of freedom\n",
       "Residual deviance: 1369315  on 1107686  degrees of freedom\n",
       "AIC: 1369329\n",
       "\n",
       "Number of Fisher Scoring iterations: 4\n"
      ]
     },
     "metadata": {},
     "output_type": "display_data"
    }
   ],
   "source": [
    "# Criação do modelo\n",
    "model = glm(formula = (reordered) ~   \n",
    "             + add_to_cart_order\n",
    "             + product_freq\n",
    "             + aisle_freq\n",
    "             + department_freq\n",
    "             + order_number\n",
    "             + user_avg_days,\n",
    "             family = binomial(logit), data = data_train)\n",
    "\n",
    "summary(model)"
   ]
  },
  {
   "cell_type": "code",
   "execution_count": 12,
   "metadata": {},
   "outputs": [
    {
     "name": "stdout",
     "output_type": "stream",
     "text": [
      "Analysis of Deviance Table\n",
      "\n",
      "Model: binomial, link: logit\n",
      "\n",
      "Response: (reordered)\n",
      "\n",
      "Terms added sequentially (first to last)\n",
      "\n",
      "\n",
      "                  Df Deviance Resid. Df Resid. Dev  Pr(>Chi)    \n",
      "NULL                            1107692    1492269              \n",
      "add_to_cart_order  1    23675   1107691    1468595 < 2.2e-16 ***\n",
      "product_freq       1    26189   1107690    1442406 < 2.2e-16 ***\n",
      "aisle_freq         1      616   1107689    1441790 < 2.2e-16 ***\n",
      "department_freq    1     2019   1107688    1439770 < 2.2e-16 ***\n",
      "order_number       1    66159   1107687    1373612 < 2.2e-16 ***\n",
      "user_avg_days      1     4297   1107686    1369315 < 2.2e-16 ***\n",
      "---\n",
      "Signif. codes:  0 '***' 0.001 '**' 0.01 '*' 0.05 '.' 0.1 ' ' 1\n"
     ]
    }
   ],
   "source": [
    "# Teste de relevância das variáveis\n",
    "print(anova(model, test = \"Chisq\"))"
   ]
  },
  {
   "cell_type": "markdown",
   "metadata": {},
   "source": [
    "**Obs:** Todas as variáveis são importantes para o modelo, sendo order_number a mais relevante e aisle_freq a menos importante."
   ]
  },
  {
   "cell_type": "code",
   "execution_count": 545,
   "metadata": {},
   "outputs": [
    {
     "data": {
      "text/plain": [
       "Confusion Matrix and Statistics\n",
       "\n",
       "          Reference\n",
       "Prediction     no    yes\n",
       "       no   46226  30409\n",
       "       yes  64889 135400\n",
       "                                          \n",
       "               Accuracy : 0.6559          \n",
       "                 95% CI : (0.6541, 0.6576)\n",
       "    No Information Rate : 0.5988          \n",
       "    P-Value [Acc > NIR] : < 2.2e-16       \n",
       "                                          \n",
       "                  Kappa : 0.2452          \n",
       "                                          \n",
       " Mcnemar's Test P-Value : < 2.2e-16       \n",
       "                                          \n",
       "            Sensitivity : 0.4160          \n",
       "            Specificity : 0.8166          \n",
       "         Pos Pred Value : 0.6032          \n",
       "         Neg Pred Value : 0.6760          \n",
       "             Prevalence : 0.4012          \n",
       "         Detection Rate : 0.1669          \n",
       "   Detection Prevalence : 0.2767          \n",
       "      Balanced Accuracy : 0.6163          \n",
       "                                          \n",
       "       'Positive' Class : no              \n",
       "                                          "
      ]
     },
     "metadata": {},
     "output_type": "display_data"
    }
   ],
   "source": [
    "# Confusion Matrix - No caso da regressão logística, não é necessário um threshold  (considerar 0.5)\n",
    "ypred = predict(model, data_test, type = \"response\")\n",
    "plabel = ifelse(ypred > 0.5, 1, 0)\n",
    "outdata_binario = list(\"prediction\" = plabel) \n",
    "pred_logistic = as.data.frame(outdata_binario)\n",
    "pred_logistic$prediction = factor(pred_logistic$prediction, labels = c(\"no\", \"yes\"))\n",
    "data_test$reordered = factor(data_test$reordered, labels = c(\"no\", \"yes\"))\n",
    "confusionMatrix(data = factor(pred_logistic$prediction), reference = data_test$reordered)"
   ]
  },
  {
   "cell_type": "code",
   "execution_count": 546,
   "metadata": {},
   "outputs": [
    {
     "data": {
      "text/html": [
       "0.616310837210729"
      ],
      "text/latex": [
       "0.616310837210729"
      ],
      "text/markdown": [
       "0.616310837210729"
      ],
      "text/plain": [
       "[1] 0.6163108"
      ]
     },
     "metadata": {},
     "output_type": "display_data"
    }
   ],
   "source": [
    "# Cálculo da Área Under the Curve (AUC) - valores binários\n",
    "pred = prediction(outdata_binario, data_test$reordered)\n",
    "AUC_logistic_bin = performance(pred, measure = \"auc\")\n",
    "AUC_logistic_bin = AUC_logistic_bin@y.values[[1]]\n",
    "AUC_logistic_bin"
   ]
  },
  {
   "cell_type": "code",
   "execution_count": 547,
   "metadata": {},
   "outputs": [
    {
     "data": {
      "text/html": [
       "0.693493307931923"
      ],
      "text/latex": [
       "0.693493307931923"
      ],
      "text/markdown": [
       "0.693493307931923"
      ],
      "text/plain": [
       "[1] 0.6934933"
      ]
     },
     "metadata": {},
     "output_type": "display_data"
    }
   ],
   "source": [
    "# Cálculo da Área Under the Curve (AUC) - valores contínuos\n",
    "outdata = prediction(ypred, data_test$reordered)\n",
    "AUC_logistic = performance(outdata,\"auc\")\n",
    "AUC_logistic = AUC_logistic@y.values[[1]]\n",
    "AUC_logistic"
   ]
  },
  {
   "cell_type": "code",
   "execution_count": 548,
   "metadata": {},
   "outputs": [
    {
     "data": {
      "image/png": "[encoded data removed]",
      "text/plain": [
       "Plot with title \"Curva ROC\""
      ]
     },
     "metadata": {
      "image/png": {
       "height": 420,
       "width": 420
      },
      "text/plain": {
       "height": 420,
       "width": 420
      }
     },
     "output_type": "display_data"
    }
   ],
   "source": [
    "# Plot da curva ROC\n",
    "perform = performance(outdata, measure = \"tpr\", x.measure = \"fpr\")\n",
    "plot(perform, main = \"Curva ROC\")"
   ]
  },
  {
   "cell_type": "markdown",
   "metadata": {},
   "source": [
    "# **Modelo - Árvore de decisão**"
   ]
  },
  {
   "cell_type": "code",
   "execution_count": 539,
   "metadata": {},
   "outputs": [
    {
     "name": "stdout",
     "output_type": "stream",
     "text": [
      "\n",
      "Classification tree:\n",
      "rpart(formula = (reordered) ~ +add_to_cart_order + product_freq + \n",
      "    aisle_freq + department_freq + order_number + user_avg_days + \n",
      "    user_last_order, data = data_train, method = \"class\")\n",
      "\n",
      "Variables actually used in tree construction:\n",
      "[1] add_to_cart_order department_freq   order_number      product_freq     \n",
      "\n",
      "Root node error: 444678/1107693 = 0.40145\n",
      "\n",
      "n= 1107693 \n",
      "\n",
      "       CP nsplit rel error  xerror      xstd\n",
      "1 0.05561      0   1.00000 1.00000 0.0011602\n",
      "2 0.01176      2   0.88878 0.88878 0.0011338\n",
      "3 0.01097      4   0.86526 0.86515 0.0011269\n",
      "4 0.01000      5   0.85429 0.85418 0.0011235\n"
     ]
    }
   ],
   "source": [
    "# Criação do modelo\n",
    "tree1 = rpart(formula = (reordered) ~ \n",
    "             + add_to_cart_order\n",
    "             + product_freq\n",
    "             + aisle_freq\n",
    "             + department_freq\n",
    "             + order_number\n",
    "             + user_avg_days\n",
    "             + user_last_order,\n",
    "               data = data_train,\n",
    "               method = \"class\")\n",
    "\n",
    "# Resumo do modelo\n",
    "printcp(tree1)"
   ]
  },
  {
   "cell_type": "code",
   "execution_count": 540,
   "metadata": {},
   "outputs": [
    {
     "data": {
      "image/png": "[encoded data removed]",
      "text/plain": [
       "Plot with title \"Classification Tree\""
      ]
     },
     "metadata": {
      "image/png": {
       "height": 420,
       "width": 420
      },
      "text/plain": {
       "height": 420,
       "width": 420
      }
     },
     "output_type": "display_data"
    }
   ],
   "source": [
    "# Plot da árvore de decisão\n",
    "{plot(tree1, uniform = TRUE, main = \"Classification Tree\")\n",
    "text(tree1, use.n = TRUE, all = TRUE, cex = .8)}"
   ]
  },
  {
   "cell_type": "code",
   "execution_count": 541,
   "metadata": {},
   "outputs": [
    {
     "data": {
      "text/html": [
       "0.01"
      ],
      "text/latex": [
       "0.01"
      ],
      "text/markdown": [
       "0.01"
      ],
      "text/plain": [
       "[1] 0.01"
      ]
     },
     "metadata": {},
     "output_type": "display_data"
    },
    {
     "data": {
      "image/png": "[encoded data removed]",
      "text/plain": [
       "plot without title"
      ]
     },
     "metadata": {
      "image/png": {
       "height": 420,
       "width": 420
      },
      "text/plain": {
       "height": 420,
       "width": 420
      }
     },
     "output_type": "display_data"
    }
   ],
   "source": [
    "# Plot dos erros\n",
    "tree1$cptable[which.min(tree1$cptable[,\"xerror\"]),\"CP\"]\n",
    "plotcp(tree1)"
   ]
  },
  {
   "cell_type": "code",
   "execution_count": 549,
   "metadata": {},
   "outputs": [
    {
     "data": {
      "text/plain": [
       "Confusion Matrix and Statistics\n",
       "\n",
       "          Reference\n",
       "Prediction     no    yes\n",
       "       no   55872  39634\n",
       "       yes  55243 126175\n",
       "                                          \n",
       "               Accuracy : 0.6574          \n",
       "                 95% CI : (0.6556, 0.6592)\n",
       "    No Information Rate : 0.5988          \n",
       "    P-Value [Acc > NIR] : < 2.2e-16       \n",
       "                                          \n",
       "                  Kappa : 0.2701          \n",
       "                                          \n",
       " Mcnemar's Test P-Value : < 2.2e-16       \n",
       "                                          \n",
       "            Sensitivity : 0.5028          \n",
       "            Specificity : 0.7610          \n",
       "         Pos Pred Value : 0.5850          \n",
       "         Neg Pred Value : 0.6955          \n",
       "             Prevalence : 0.4012          \n",
       "         Detection Rate : 0.2018          \n",
       "   Detection Prevalence : 0.3449          \n",
       "      Balanced Accuracy : 0.6319          \n",
       "                                          \n",
       "       'Positive' Class : no              \n",
       "                                          "
      ]
     },
     "metadata": {},
     "output_type": "display_data"
    }
   ],
   "source": [
    "# Confusion Matrix -  não é necessário um threshold (considerar 0.5)\n",
    "ypred = predict(tree1, data_test, type = \"prob\")\n",
    "plabel = ifelse(ypred[,2] > 0.5, 1, 0)\n",
    "outdata_binario = list(\"prediction\" = plabel) \n",
    "pred_tree = as.data.frame(outdata_binario)\n",
    "pred_tree$prediction = factor(pred_tree$prediction, labels = c(\"no\", \"yes\"))\n",
    "data_test$reordered = factor(data_test$reordered, labels = c(\"no\", \"yes\"))\n",
    "confusionMatrix(data = factor(pred_tree$prediction), reference = data_test$reordered)"
   ]
  },
  {
   "cell_type": "code",
   "execution_count": 550,
   "metadata": {},
   "outputs": [
    {
     "data": {
      "text/html": [
       "0.631898165807621"
      ],
      "text/latex": [
       "0.631898165807621"
      ],
      "text/markdown": [
       "0.631898165807621"
      ],
      "text/plain": [
       "[1] 0.6318982"
      ]
     },
     "metadata": {},
     "output_type": "display_data"
    }
   ],
   "source": [
    "# Cálculo da Área Under the Curve (AUC) - valores binários\n",
    "pred = prediction(outdata_binario, data_test$reordered)\n",
    "AUC_tree_bin = performance(pred, measure = \"auc\")\n",
    "AUC_tree_bin = AUC_tree_bin@y.values[[1]]\n",
    "AUC_tree_bin"
   ]
  },
  {
   "cell_type": "code",
   "execution_count": 551,
   "metadata": {},
   "outputs": [
    {
     "data": {
      "text/html": [
       "0.654440901364223"
      ],
      "text/latex": [
       "0.654440901364223"
      ],
      "text/markdown": [
       "0.654440901364223"
      ],
      "text/plain": [
       "[1] 0.6544409"
      ]
     },
     "metadata": {},
     "output_type": "display_data"
    }
   ],
   "source": [
    "# Cálculo da Área Under the Curve (AUC) - valores contínuos\n",
    "outdata = prediction(ypred[,2], data_test$reordered)\n",
    "AUC_tree = performance(outdata,\"auc\")\n",
    "AUC_tree = AUC_tree@y.values[[1]]\n",
    "AUC_tree"
   ]
  },
  {
   "cell_type": "code",
   "execution_count": 552,
   "metadata": {
    "scrolled": true
   },
   "outputs": [
    {
     "data": {
      "image/png": "[encoded data removed]",
      "text/plain": [
       "Plot with title \"Curva ROC\""
      ]
     },
     "metadata": {
      "image/png": {
       "height": 420,
       "width": 420
      },
      "text/plain": {
       "height": 420,
       "width": 420
      }
     },
     "output_type": "display_data"
    }
   ],
   "source": [
    "# Plot da curva ROC\n",
    "perform = performance(outdata, measure = \"tpr\", x.measure = \"fpr\")\n",
    "plot(perform, main = \"Curva ROC\")"
   ]
  },
  {
   "cell_type": "markdown",
   "metadata": {},
   "source": [
    "## **Resumo**\n",
    "\n",
    "Com os resultados de 3 diferentes modelos, conclui-se que o modelo feito com o XGBoost é o mais adequado. Ele obteve os melhores resultados de AUC e acurácia, calculada pela confusionMatrix. "
   ]
  },
  {
   "cell_type": "code",
   "execution_count": null,
   "metadata": {},
   "outputs": [],
   "source": [
    "##################### XGBoost ######################   \n",
    "\n",
    "# AUC bin = 0.66717 \n",
    "# AUC = 0.73564\n",
    "# Accuracy : 0.6802\n",
    "\n",
    "#              Reference\n",
    "# Prediction     no    yes\n",
    "#        no   66863  44307  =  88.559 predições incorretas\n",
    "#        yes  44252 121502  = 188.365 predições corretas   \n",
    "\n",
    "############### Regressão Logística ################  \n",
    "\n",
    "# AUC bin = 0.61631\n",
    "# AUC = 0.69349\n",
    "# Accuracy : 0.6559\n",
    "\n",
    "#              Reference\n",
    "# Prediction     no    yes\n",
    "#       no   46226  30409  =  95.298 predições incorretas\n",
    "#       yes  64889 135400  = 181.626 predições corretas\n",
    "\n",
    "\n",
    "################ Árvore de Decisão ################  \n",
    "\n",
    "# AUC bin = 0.63189\n",
    "# AUC = 0.65444\n",
    "# Accuracy : 0.6574   \n",
    "\n",
    "#              Reference\n",
    "# Prediction     no    yes\n",
    "#        no   55872  39634  =  94.877 predições incorretas\n",
    "#        yes  55243 126175  = 182.047 predições corretas                      "
   ]
  }
 ],
 "metadata": {
  "kernelspec": {
   "display_name": "R",
   "language": "R",
   "name": "ir"
  },
  "language_info": {
   "codemirror_mode": "r",
   "file_extension": ".r",
   "mimetype": "text/x-r-source",
   "name": "R",
   "pygments_lexer": "r",
   "version": "3.6.3"
  }
 },
 "nbformat": 4,
 "nbformat_minor": 4
}
